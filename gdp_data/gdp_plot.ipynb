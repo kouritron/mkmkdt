{
 "cells": [
  {
   "cell_type": "code",
   "execution_count": 1,
   "id": "6d070f20-a18d-45f1-8e0b-eea41aa883bc",
   "metadata": {},
   "outputs": [],
   "source": [
    "import os, json, random, time\n",
    "\n",
    "from datetime import datetime\n",
    "from datetime import timedelta\n",
    "import subprocess as sp\n",
    "from pathlib import Path\n",
    "\n",
    "from decimal import Decimal\n",
    "\n",
    "import requests\n",
    "import pandas as pd\n",
    "import numpy as np\n",
    "from IPython.display import HTML, display\n",
    "\n",
    "\n",
    "import plotly.express as px\n",
    "import chart_studio.plotly as py"
   ]
  },
  {
   "cell_type": "code",
   "execution_count": 2,
   "id": "665c5f4d-3184-45c0-8356-8b3a85eb925a",
   "metadata": {},
   "outputs": [],
   "source": [
    "_repo_root = Path(os.environ['CURR_REPO_ROOT'])\n",
    "us_gdp_parq_path = _repo_root / 'gdp_data' / 'US_Q1_2021_BEA.parq'\n",
    "us_gdp_orc_path = _repo_root / 'gdp_data' / 'US_Q1_2021_BEA.orc'\n",
    "\n"
   ]
  },
  {
   "cell_type": "code",
   "execution_count": null,
   "id": "09db440a-e6fd-4631-b3fd-6bc74c65917c",
   "metadata": {},
   "outputs": [],
   "source": []
  },
  {
   "cell_type": "markdown",
   "id": "6c3d50ec-8474-44ee-a9ee-e5a954af426e",
   "metadata": {},
   "source": [
    "----\n",
    "----\n",
    "----\n",
    "----\n",
    "# read src"
   ]
  },
  {
   "cell_type": "code",
   "execution_count": null,
   "id": "489c9651-4c1d-422d-9d6e-33441708e2a8",
   "metadata": {},
   "outputs": [],
   "source": []
  },
  {
   "cell_type": "code",
   "execution_count": 3,
   "id": "2160efd5-1bc9-490e-933b-548b662a2bf7",
   "metadata": {},
   "outputs": [],
   "source": [
    "pddf = pd.read_parquet(path=str(us_gdp_parq_path), engine='pyarrow')"
   ]
  },
  {
   "cell_type": "code",
   "execution_count": 12,
   "id": "41fd646f-5cb6-41df-a83a-a556bf1e5d03",
   "metadata": {},
   "outputs": [
    {
     "data": {
      "text/html": [
       "<table border=\"1\" class=\"dataframe\">\n",
       "  <thead>\n",
       "    <tr style=\"text-align: right;\">\n",
       "      <th>Sector</th>\n",
       "      <th>gdp_q1 (Billions USD)</th>\n",
       "    </tr>\n",
       "  </thead>\n",
       "  <tbody>\n",
       "    <tr>\n",
       "      <td>Finance, insurance, real estate, rental, and leasing</td>\n",
       "      <td>7_874.30</td>\n",
       "    </tr>\n",
       "    <tr>\n",
       "      <td>Manufacturing</td>\n",
       "      <td>6_409.30</td>\n",
       "    </tr>\n",
       "    <tr>\n",
       "      <td>Professional and business services</td>\n",
       "      <td>4_504.80</td>\n",
       "    </tr>\n",
       "    <tr>\n",
       "      <td>Real estate and rental and leasing</td>\n",
       "      <td>4_368.40</td>\n",
       "    </tr>\n",
       "    <tr>\n",
       "      <td>Government</td>\n",
       "      <td>4_264.60</td>\n",
       "    </tr>\n",
       "    <tr>\n",
       "      <td>Real estate</td>\n",
       "      <td>4_008.70</td>\n",
       "    </tr>\n",
       "    <tr>\n",
       "      <td>Finance and insurance</td>\n",
       "      <td>3_505.90</td>\n",
       "    </tr>\n",
       "    <tr>\n",
       "      <td>Durable goods</td>\n",
       "      <td>3_345.00</td>\n",
       "    </tr>\n",
       "    <tr>\n",
       "      <td>Nondurable goods</td>\n",
       "      <td>3_064.30</td>\n",
       "    </tr>\n",
       "    <tr>\n",
       "      <td>Educational services, health care, and social assistance</td>\n",
       "      <td>3_047.60</td>\n",
       "    </tr>\n",
       "    <tr>\n",
       "      <td>State and local</td>\n",
       "      <td>2_899.50</td>\n",
       "    </tr>\n",
       "    <tr>\n",
       "      <td>Health care and social assistance</td>\n",
       "      <td>2_680.30</td>\n",
       "    </tr>\n",
       "  </tbody>\n",
       "</table>"
      ],
      "text/plain": [
       "<IPython.core.display.HTML object>"
      ]
     },
     "execution_count": 12,
     "metadata": {},
     "output_type": "execute_result"
    }
   ],
   "source": [
    "HTML(pddf.head(12).to_html(index=False))"
   ]
  },
  {
   "cell_type": "code",
   "execution_count": null,
   "id": "6614b27b-0ff1-4f5a-9ace-6fb2064168ce",
   "metadata": {},
   "outputs": [],
   "source": []
  },
  {
   "cell_type": "code",
   "execution_count": null,
   "id": "bc61854c-da9f-4b8f-8bad-12f40d8b15fb",
   "metadata": {},
   "outputs": [],
   "source": []
  },
  {
   "cell_type": "code",
   "execution_count": null,
   "id": "08d5b5a1-db17-4237-bd8f-3e70b7e67e23",
   "metadata": {},
   "outputs": [],
   "source": []
  },
  {
   "cell_type": "code",
   "execution_count": null,
   "id": "78672f40-a2b2-4366-ab52-25fe7cb6caa9",
   "metadata": {},
   "outputs": [],
   "source": []
  },
  {
   "cell_type": "markdown",
   "id": "9199fb16-39d4-45af-8440-0aa8fc263def",
   "metadata": {},
   "source": [
    "----\n",
    "----\n",
    "----\n",
    "----\n",
    "# Bar plot example"
   ]
  },
  {
   "cell_type": "code",
   "execution_count": 18,
   "id": "c45146f0-e41a-4093-a23f-b0d76108b8bb",
   "metadata": {},
   "outputs": [
    {
     "data": {
      "text/plain": [
       "'Sector'"
      ]
     },
     "execution_count": 18,
     "metadata": {},
     "output_type": "execute_result"
    }
   ],
   "source": [
    "pddf.columns[0]"
   ]
  },
  {
   "cell_type": "code",
   "execution_count": 20,
   "id": "6ff33fac-9155-41a9-895e-a122337464cb",
   "metadata": {},
   "outputs": [
    {
     "data": {
      "application/vnd.plotly.v1+json": {
       "config": {
        "plotlyServerURL": "https://plot.ly"
       },
       "data": [
        {
         "alignmentgroup": "True",
         "hovertemplate": "x=%{x}<br>y=%{y}<extra></extra>",
         "legendgroup": "",
         "marker": {
          "color": "#636efa",
          "pattern": {
           "shape": ""
          }
         },
         "name": "",
         "offsetgroup": "",
         "orientation": "v",
         "showlegend": false,
         "textposition": "auto",
         "type": "bar",
         "x": [
          "Finance, insurance, real estate, rental, and leasing",
          "Manufacturing",
          "Professional and business services",
          "Real estate and rental and leasing",
          "Government",
          "Real estate",
          "Finance and insurance",
          "Durable goods",
          "Nondurable goods",
          "Educational services, health care, and social assistance",
          "State and local",
          "Health care and social assistance",
          "Professional, scientific, and technical services",
          "General government",
          "Housing",
          "Retail trade",
          "Wholesale trade",
          "Information",
          "Construction",
          "Miscellaneous professional, scientific, and technical services",
          "Other real estate",
          "Insurance carriers and related activities",
          "Federal",
          "Other retail",
          "Arts, entertainment, recreation, accommodation, and food services",
          "Transportation and warehousing",
          "Administrative and waste management services",
          "General government",
          "Ambulatory health care services",
          "Administrative and support services",
          "Federal Reserve banks, credit intermediation, and related activities",
          "Accommodation and food services",
          "Hospitals",
          "Food and beverage and tobacco products",
          "Broadcasting and telecommunications",
          "Chemical products",
          "Food services and drinking places",
          "Motor vehicles, bodies and trailers, and parts",
          "Securities, commodity contracts, and investments",
          "National defense",
          "Management of companies and enterprises",
          "Other services, except government",
          "Data processing, internet publishing, and other information services",
          "Utilities",
          "Petroleum and coal products",
          "Nondefense",
          "Agriculture, forestry, fishing, and hunting",
          "Computer systems design and related services",
          "Mining",
          "Publishing industries, except internet (includes software)",
          "Farms",
          "Computer and electronic products",
          "Machinery",
          "Legal services",
          "Motor vehicle and parts dealers",
          "Truck transportation",
          "Fabricated metal products",
          "Government enterprises",
          "Educational services",
          "Rental and leasing services and lessors of intangible assets",
          "Other transportation and support activities",
          "Oil and gas extraction",
          "Food and beverage stores",
          "General merchandise stores",
          "Other transportation equipment",
          "Nursing and residential care facilities",
          "Primary metals",
          "Arts, entertainment, and recreation",
          "Plastics and rubber products",
          "Social assistance",
          "Miscellaneous manufacturing",
          "Funds, trusts, and other financial vehicles",
          "Paper products",
          "Accommodation",
          "Warehousing and storage",
          "Nonmetallic mineral products",
          "Wood products",
          "Electrical equipment, appliances, and components",
          "Amusements, gambling, and recreation industries",
          "Motion picture and sound recording industries",
          "Waste management and remediation services",
          "Performing arts, spectator sports, museums, and related activities",
          "Mining, except oil and gas",
          "Air transportation",
          "Government enterprises",
          "Printing and related support activities",
          "Furniture and related products",
          "Rail transportation",
          "Transit and ground passenger transportation",
          "Pipeline transportation",
          "Support activities for mining",
          "Forestry, fishing, and related activities",
          "Textile mills and textile product mills",
          "Water transportation",
          "Apparel and leather and allied products"
         ],
         "xaxis": "x",
         "y": [
          "7_874.30",
          "6_409.30",
          "4_504.80",
          "4_368.40",
          "4_264.60",
          "4_008.70",
          "3_505.90",
          "3_345.00",
          "3_064.30",
          "3_047.60",
          "2_899.50",
          "2_680.30",
          "2_543.80",
          "2_506.70",
          "2_487.80",
          "2_300.80",
          "2_216.60",
          "2_159.40",
          "1_875.30",
          "1_634.30",
          "1_520.90",
          "1_421.50",
          "1_365.10",
          "1_330.00",
          "1_296.90",
          "1_273.70",
          "1_268.60",
          "1_265.30",
          "1_163.40",
          "1_153.80",
          "1_114.20",
          "1_048.50",
          "1_018.20",
          "989.50",
          "938.20",
          "918.40",
          "856.10",
          "838.40",
          "767.50",
          "744.30",
          "692.40",
          "678.20",
          "631.80",
          "556.60",
          "555.70",
          "521.00",
          "500.20",
          "496.00",
          "489.50",
          "460.80",
          "445.40",
          "431.10",
          "427.30",
          "413.40",
          "410.70",
          "399.20",
          "394.70",
          "392.80",
          "367.30",
          "359.70",
          "342.00",
          "322.80",
          "284.70",
          "275.40",
          "273.20",
          "259.80",
          "251.60",
          "248.40",
          "242.10",
          "238.80",
          "213.60",
          "202.70",
          "201.00",
          "192.50",
          "167.50",
          "146.00",
          "145.10",
          "143.90",
          "138.10",
          "128.50",
          "114.90",
          "110.30",
          "109.90",
          "104.70",
          "99.80",
          "89.10",
          "80.20",
          "80.00",
          "77.30",
          "67.10",
          "56.90",
          "54.80",
          "48.00",
          "35.90",
          "20.60"
         ],
         "yaxis": "y"
        }
       ],
       "layout": {
        "autosize": true,
        "barmode": "relative",
        "legend": {
         "tracegroupgap": 0
        },
        "margin": {
         "t": 60
        },
        "template": {
         "data": {
          "bar": [
           {
            "error_x": {
             "color": "#2a3f5f"
            },
            "error_y": {
             "color": "#2a3f5f"
            },
            "marker": {
             "line": {
              "color": "#E5ECF6",
              "width": 0.5
             },
             "pattern": {
              "fillmode": "overlay",
              "size": 10,
              "solidity": 0.2
             }
            },
            "type": "bar"
           }
          ],
          "barpolar": [
           {
            "marker": {
             "line": {
              "color": "#E5ECF6",
              "width": 0.5
             },
             "pattern": {
              "fillmode": "overlay",
              "size": 10,
              "solidity": 0.2
             }
            },
            "type": "barpolar"
           }
          ],
          "carpet": [
           {
            "aaxis": {
             "endlinecolor": "#2a3f5f",
             "gridcolor": "white",
             "linecolor": "white",
             "minorgridcolor": "white",
             "startlinecolor": "#2a3f5f"
            },
            "baxis": {
             "endlinecolor": "#2a3f5f",
             "gridcolor": "white",
             "linecolor": "white",
             "minorgridcolor": "white",
             "startlinecolor": "#2a3f5f"
            },
            "type": "carpet"
           }
          ],
          "choropleth": [
           {
            "colorbar": {
             "outlinewidth": 0,
             "ticks": ""
            },
            "type": "choropleth"
           }
          ],
          "contour": [
           {
            "colorbar": {
             "outlinewidth": 0,
             "ticks": ""
            },
            "colorscale": [
             [
              0,
              "#0d0887"
             ],
             [
              0.1111111111111111,
              "#46039f"
             ],
             [
              0.2222222222222222,
              "#7201a8"
             ],
             [
              0.3333333333333333,
              "#9c179e"
             ],
             [
              0.4444444444444444,
              "#bd3786"
             ],
             [
              0.5555555555555556,
              "#d8576b"
             ],
             [
              0.6666666666666666,
              "#ed7953"
             ],
             [
              0.7777777777777778,
              "#fb9f3a"
             ],
             [
              0.8888888888888888,
              "#fdca26"
             ],
             [
              1,
              "#f0f921"
             ]
            ],
            "type": "contour"
           }
          ],
          "contourcarpet": [
           {
            "colorbar": {
             "outlinewidth": 0,
             "ticks": ""
            },
            "type": "contourcarpet"
           }
          ],
          "heatmap": [
           {
            "colorbar": {
             "outlinewidth": 0,
             "ticks": ""
            },
            "colorscale": [
             [
              0,
              "#0d0887"
             ],
             [
              0.1111111111111111,
              "#46039f"
             ],
             [
              0.2222222222222222,
              "#7201a8"
             ],
             [
              0.3333333333333333,
              "#9c179e"
             ],
             [
              0.4444444444444444,
              "#bd3786"
             ],
             [
              0.5555555555555556,
              "#d8576b"
             ],
             [
              0.6666666666666666,
              "#ed7953"
             ],
             [
              0.7777777777777778,
              "#fb9f3a"
             ],
             [
              0.8888888888888888,
              "#fdca26"
             ],
             [
              1,
              "#f0f921"
             ]
            ],
            "type": "heatmap"
           }
          ],
          "heatmapgl": [
           {
            "colorbar": {
             "outlinewidth": 0,
             "ticks": ""
            },
            "colorscale": [
             [
              0,
              "#0d0887"
             ],
             [
              0.1111111111111111,
              "#46039f"
             ],
             [
              0.2222222222222222,
              "#7201a8"
             ],
             [
              0.3333333333333333,
              "#9c179e"
             ],
             [
              0.4444444444444444,
              "#bd3786"
             ],
             [
              0.5555555555555556,
              "#d8576b"
             ],
             [
              0.6666666666666666,
              "#ed7953"
             ],
             [
              0.7777777777777778,
              "#fb9f3a"
             ],
             [
              0.8888888888888888,
              "#fdca26"
             ],
             [
              1,
              "#f0f921"
             ]
            ],
            "type": "heatmapgl"
           }
          ],
          "histogram": [
           {
            "marker": {
             "pattern": {
              "fillmode": "overlay",
              "size": 10,
              "solidity": 0.2
             }
            },
            "type": "histogram"
           }
          ],
          "histogram2d": [
           {
            "colorbar": {
             "outlinewidth": 0,
             "ticks": ""
            },
            "colorscale": [
             [
              0,
              "#0d0887"
             ],
             [
              0.1111111111111111,
              "#46039f"
             ],
             [
              0.2222222222222222,
              "#7201a8"
             ],
             [
              0.3333333333333333,
              "#9c179e"
             ],
             [
              0.4444444444444444,
              "#bd3786"
             ],
             [
              0.5555555555555556,
              "#d8576b"
             ],
             [
              0.6666666666666666,
              "#ed7953"
             ],
             [
              0.7777777777777778,
              "#fb9f3a"
             ],
             [
              0.8888888888888888,
              "#fdca26"
             ],
             [
              1,
              "#f0f921"
             ]
            ],
            "type": "histogram2d"
           }
          ],
          "histogram2dcontour": [
           {
            "colorbar": {
             "outlinewidth": 0,
             "ticks": ""
            },
            "colorscale": [
             [
              0,
              "#0d0887"
             ],
             [
              0.1111111111111111,
              "#46039f"
             ],
             [
              0.2222222222222222,
              "#7201a8"
             ],
             [
              0.3333333333333333,
              "#9c179e"
             ],
             [
              0.4444444444444444,
              "#bd3786"
             ],
             [
              0.5555555555555556,
              "#d8576b"
             ],
             [
              0.6666666666666666,
              "#ed7953"
             ],
             [
              0.7777777777777778,
              "#fb9f3a"
             ],
             [
              0.8888888888888888,
              "#fdca26"
             ],
             [
              1,
              "#f0f921"
             ]
            ],
            "type": "histogram2dcontour"
           }
          ],
          "mesh3d": [
           {
            "colorbar": {
             "outlinewidth": 0,
             "ticks": ""
            },
            "type": "mesh3d"
           }
          ],
          "parcoords": [
           {
            "line": {
             "colorbar": {
              "outlinewidth": 0,
              "ticks": ""
             }
            },
            "type": "parcoords"
           }
          ],
          "pie": [
           {
            "automargin": true,
            "type": "pie"
           }
          ],
          "scatter": [
           {
            "fillpattern": {
             "fillmode": "overlay",
             "size": 10,
             "solidity": 0.2
            },
            "type": "scatter"
           }
          ],
          "scatter3d": [
           {
            "line": {
             "colorbar": {
              "outlinewidth": 0,
              "ticks": ""
             }
            },
            "marker": {
             "colorbar": {
              "outlinewidth": 0,
              "ticks": ""
             }
            },
            "type": "scatter3d"
           }
          ],
          "scattercarpet": [
           {
            "marker": {
             "colorbar": {
              "outlinewidth": 0,
              "ticks": ""
             }
            },
            "type": "scattercarpet"
           }
          ],
          "scattergeo": [
           {
            "marker": {
             "colorbar": {
              "outlinewidth": 0,
              "ticks": ""
             }
            },
            "type": "scattergeo"
           }
          ],
          "scattergl": [
           {
            "marker": {
             "colorbar": {
              "outlinewidth": 0,
              "ticks": ""
             }
            },
            "type": "scattergl"
           }
          ],
          "scattermapbox": [
           {
            "marker": {
             "colorbar": {
              "outlinewidth": 0,
              "ticks": ""
             }
            },
            "type": "scattermapbox"
           }
          ],
          "scatterpolar": [
           {
            "marker": {
             "colorbar": {
              "outlinewidth": 0,
              "ticks": ""
             }
            },
            "type": "scatterpolar"
           }
          ],
          "scatterpolargl": [
           {
            "marker": {
             "colorbar": {
              "outlinewidth": 0,
              "ticks": ""
             }
            },
            "type": "scatterpolargl"
           }
          ],
          "scatterternary": [
           {
            "marker": {
             "colorbar": {
              "outlinewidth": 0,
              "ticks": ""
             }
            },
            "type": "scatterternary"
           }
          ],
          "surface": [
           {
            "colorbar": {
             "outlinewidth": 0,
             "ticks": ""
            },
            "colorscale": [
             [
              0,
              "#0d0887"
             ],
             [
              0.1111111111111111,
              "#46039f"
             ],
             [
              0.2222222222222222,
              "#7201a8"
             ],
             [
              0.3333333333333333,
              "#9c179e"
             ],
             [
              0.4444444444444444,
              "#bd3786"
             ],
             [
              0.5555555555555556,
              "#d8576b"
             ],
             [
              0.6666666666666666,
              "#ed7953"
             ],
             [
              0.7777777777777778,
              "#fb9f3a"
             ],
             [
              0.8888888888888888,
              "#fdca26"
             ],
             [
              1,
              "#f0f921"
             ]
            ],
            "type": "surface"
           }
          ],
          "table": [
           {
            "cells": {
             "fill": {
              "color": "#EBF0F8"
             },
             "line": {
              "color": "white"
             }
            },
            "header": {
             "fill": {
              "color": "#C8D4E3"
             },
             "line": {
              "color": "white"
             }
            },
            "type": "table"
           }
          ]
         },
         "layout": {
          "annotationdefaults": {
           "arrowcolor": "#2a3f5f",
           "arrowhead": 0,
           "arrowwidth": 1
          },
          "autotypenumbers": "strict",
          "coloraxis": {
           "colorbar": {
            "outlinewidth": 0,
            "ticks": ""
           }
          },
          "colorscale": {
           "diverging": [
            [
             0,
             "#8e0152"
            ],
            [
             0.1,
             "#c51b7d"
            ],
            [
             0.2,
             "#de77ae"
            ],
            [
             0.3,
             "#f1b6da"
            ],
            [
             0.4,
             "#fde0ef"
            ],
            [
             0.5,
             "#f7f7f7"
            ],
            [
             0.6,
             "#e6f5d0"
            ],
            [
             0.7,
             "#b8e186"
            ],
            [
             0.8,
             "#7fbc41"
            ],
            [
             0.9,
             "#4d9221"
            ],
            [
             1,
             "#276419"
            ]
           ],
           "sequential": [
            [
             0,
             "#0d0887"
            ],
            [
             0.1111111111111111,
             "#46039f"
            ],
            [
             0.2222222222222222,
             "#7201a8"
            ],
            [
             0.3333333333333333,
             "#9c179e"
            ],
            [
             0.4444444444444444,
             "#bd3786"
            ],
            [
             0.5555555555555556,
             "#d8576b"
            ],
            [
             0.6666666666666666,
             "#ed7953"
            ],
            [
             0.7777777777777778,
             "#fb9f3a"
            ],
            [
             0.8888888888888888,
             "#fdca26"
            ],
            [
             1,
             "#f0f921"
            ]
           ],
           "sequentialminus": [
            [
             0,
             "#0d0887"
            ],
            [
             0.1111111111111111,
             "#46039f"
            ],
            [
             0.2222222222222222,
             "#7201a8"
            ],
            [
             0.3333333333333333,
             "#9c179e"
            ],
            [
             0.4444444444444444,
             "#bd3786"
            ],
            [
             0.5555555555555556,
             "#d8576b"
            ],
            [
             0.6666666666666666,
             "#ed7953"
            ],
            [
             0.7777777777777778,
             "#fb9f3a"
            ],
            [
             0.8888888888888888,
             "#fdca26"
            ],
            [
             1,
             "#f0f921"
            ]
           ]
          },
          "colorway": [
           "#636efa",
           "#EF553B",
           "#00cc96",
           "#ab63fa",
           "#FFA15A",
           "#19d3f3",
           "#FF6692",
           "#B6E880",
           "#FF97FF",
           "#FECB52"
          ],
          "font": {
           "color": "#2a3f5f"
          },
          "geo": {
           "bgcolor": "white",
           "lakecolor": "white",
           "landcolor": "#E5ECF6",
           "showlakes": true,
           "showland": true,
           "subunitcolor": "white"
          },
          "hoverlabel": {
           "align": "left"
          },
          "hovermode": "closest",
          "mapbox": {
           "style": "light"
          },
          "paper_bgcolor": "white",
          "plot_bgcolor": "#E5ECF6",
          "polar": {
           "angularaxis": {
            "gridcolor": "white",
            "linecolor": "white",
            "ticks": ""
           },
           "bgcolor": "#E5ECF6",
           "radialaxis": {
            "gridcolor": "white",
            "linecolor": "white",
            "ticks": ""
           }
          },
          "scene": {
           "xaxis": {
            "backgroundcolor": "#E5ECF6",
            "gridcolor": "white",
            "gridwidth": 2,
            "linecolor": "white",
            "showbackground": true,
            "ticks": "",
            "zerolinecolor": "white"
           },
           "yaxis": {
            "backgroundcolor": "#E5ECF6",
            "gridcolor": "white",
            "gridwidth": 2,
            "linecolor": "white",
            "showbackground": true,
            "ticks": "",
            "zerolinecolor": "white"
           },
           "zaxis": {
            "backgroundcolor": "#E5ECF6",
            "gridcolor": "white",
            "gridwidth": 2,
            "linecolor": "white",
            "showbackground": true,
            "ticks": "",
            "zerolinecolor": "white"
           }
          },
          "shapedefaults": {
           "line": {
            "color": "#2a3f5f"
           }
          },
          "ternary": {
           "aaxis": {
            "gridcolor": "white",
            "linecolor": "white",
            "ticks": ""
           },
           "baxis": {
            "gridcolor": "white",
            "linecolor": "white",
            "ticks": ""
           },
           "bgcolor": "#E5ECF6",
           "caxis": {
            "gridcolor": "white",
            "linecolor": "white",
            "ticks": ""
           }
          },
          "title": {
           "x": 0.05
          },
          "xaxis": {
           "automargin": true,
           "gridcolor": "white",
           "linecolor": "white",
           "ticks": "",
           "title": {
            "standoff": 15
           },
           "zerolinecolor": "white",
           "zerolinewidth": 2
          },
          "yaxis": {
           "automargin": true,
           "gridcolor": "white",
           "linecolor": "white",
           "ticks": "",
           "title": {
            "standoff": 15
           },
           "zerolinecolor": "white",
           "zerolinewidth": 2
          }
         }
        },
        "xaxis": {
         "anchor": "y",
         "autorange": true,
         "domain": [
          0,
          1
         ],
         "range": [
          -0.5,
          92.5
         ],
         "title": {
          "text": "x"
         },
         "type": "category"
        },
        "yaxis": {
         "anchor": "x",
         "autorange": true,
         "domain": [
          0,
          1
         ],
         "range": [
          -7.833333333333335,
          148.83333333333334
         ],
         "title": {
          "text": "y"
         },
         "type": "category"
        }
       }
      },
      "image/png": "[encoded data removed]",
      "text/html": [
       "<div>                            <div id=\"3654d9cf-9439-40e6-abe9-84fd39c9285a\" class=\"plotly-graph-div\" style=\"height:525px; width:100%;\"></div>            <script type=\"text/javascript\">                require([\"plotly\"], function(Plotly) {                    window.PLOTLYENV=window.PLOTLYENV || {};                                    if (document.getElementById(\"3654d9cf-9439-40e6-abe9-84fd39c9285a\")) {                    Plotly.newPlot(                        \"3654d9cf-9439-40e6-abe9-84fd39c9285a\",                        [{\"alignmentgroup\":\"True\",\"hovertemplate\":\"x=%{x}<br>y=%{y}<extra></extra>\",\"legendgroup\":\"\",\"marker\":{\"color\":\"#636efa\",\"pattern\":{\"shape\":\"\"}},\"name\":\"\",\"offsetgroup\":\"\",\"orientation\":\"v\",\"showlegend\":false,\"textposition\":\"auto\",\"x\":[\"Finance, insurance, real estate, rental, and leasing\",\"Manufacturing\",\"Professional and business services\",\"Real estate and rental and leasing\",\"Government\",\"Real estate\",\"Finance and insurance\",\"Durable goods\",\"Nondurable goods\",\"Educational services, health care, and social assistance\",\"State and local\",\"Health care and social assistance\",\"Professional, scientific, and technical services\",\"General government\",\"Housing\",\"Retail trade\",\"Wholesale trade\",\"Information\",\"Construction\",\"Miscellaneous professional, scientific, and technical services\",\"Other real estate\",\"Insurance carriers and related activities\",\"Federal\",\"Other retail\",\"Arts, entertainment, recreation, accommodation, and food services\",\"Transportation and warehousing\",\"Administrative and waste management services\",\"General government\",\"Ambulatory health care services\",\"Administrative and support services\",\"Federal Reserve banks, credit intermediation, and related activities\",\"Accommodation and food services\",\"Hospitals\",\"Food and beverage and tobacco products\",\"Broadcasting and telecommunications\",\"Chemical products\",\"Food services and drinking places\",\"Motor vehicles, bodies and trailers, and parts\",\"Securities, commodity contracts, and investments\",\"National defense\",\"Management of companies and enterprises\",\"Other services, except government\",\"Data processing, internet publishing, and other information services\",\"Utilities\",\"Petroleum and coal products\",\"Nondefense\",\"Agriculture, forestry, fishing, and hunting\",\"Computer systems design and related services\",\"Mining\",\"Publishing industries, except internet (includes software)\",\"Farms\",\"Computer and electronic products\",\"Machinery\",\"Legal services\",\"Motor vehicle and parts dealers\",\"Truck transportation\",\"Fabricated metal products\",\"Government enterprises\",\"Educational services\",\"Rental and leasing services and lessors of intangible assets\",\"Other transportation and support activities\",\"Oil and gas extraction\",\"Food and beverage stores\",\"General merchandise stores\",\"Other transportation equipment\",\"Nursing and residential care facilities\",\"Primary metals\",\"Arts, entertainment, and recreation\",\"Plastics and rubber products\",\"Social assistance\",\"Miscellaneous manufacturing\",\"Funds, trusts, and other financial vehicles\",\"Paper products\",\"Accommodation\",\"Warehousing and storage\",\"Nonmetallic mineral products\",\"Wood products\",\"Electrical equipment, appliances, and components\",\"Amusements, gambling, and recreation industries\",\"Motion picture and sound recording industries\",\"Waste management and remediation services\",\"Performing arts, spectator sports, museums, and related activities\",\"Mining, except oil and gas\",\"Air transportation\",\"Government enterprises\",\"Printing and related support activities\",\"Furniture and related products\",\"Rail transportation\",\"Transit and ground passenger transportation\",\"Pipeline transportation\",\"Support activities for mining\",\"Forestry, fishing, and related activities\",\"Textile mills and textile product mills\",\"Water transportation\",\"Apparel and leather and allied products\"],\"xaxis\":\"x\",\"y\":[\"7_874.30\",\"6_409.30\",\"4_504.80\",\"4_368.40\",\"4_264.60\",\"4_008.70\",\"3_505.90\",\"3_345.00\",\"3_064.30\",\"3_047.60\",\"2_899.50\",\"2_680.30\",\"2_543.80\",\"2_506.70\",\"2_487.80\",\"2_300.80\",\"2_216.60\",\"2_159.40\",\"1_875.30\",\"1_634.30\",\"1_520.90\",\"1_421.50\",\"1_365.10\",\"1_330.00\",\"1_296.90\",\"1_273.70\",\"1_268.60\",\"1_265.30\",\"1_163.40\",\"1_153.80\",\"1_114.20\",\"1_048.50\",\"1_018.20\",\"989.50\",\"938.20\",\"918.40\",\"856.10\",\"838.40\",\"767.50\",\"744.30\",\"692.40\",\"678.20\",\"631.80\",\"556.60\",\"555.70\",\"521.00\",\"500.20\",\"496.00\",\"489.50\",\"460.80\",\"445.40\",\"431.10\",\"427.30\",\"413.40\",\"410.70\",\"399.20\",\"394.70\",\"392.80\",\"367.30\",\"359.70\",\"342.00\",\"322.80\",\"284.70\",\"275.40\",\"273.20\",\"259.80\",\"251.60\",\"248.40\",\"242.10\",\"238.80\",\"213.60\",\"202.70\",\"201.00\",\"192.50\",\"167.50\",\"146.00\",\"145.10\",\"143.90\",\"138.10\",\"128.50\",\"114.90\",\"110.30\",\"109.90\",\"104.70\",\"99.80\",\"89.10\",\"80.20\",\"80.00\",\"77.30\",\"67.10\",\"56.90\",\"54.80\",\"48.00\",\"35.90\",\"20.60\"],\"yaxis\":\"y\",\"type\":\"bar\"}],                        {\"template\":{\"data\":{\"histogram2dcontour\":[{\"type\":\"histogram2dcontour\",\"colorbar\":{\"outlinewidth\":0,\"ticks\":\"\"},\"colorscale\":[[0.0,\"#0d0887\"],[0.1111111111111111,\"#46039f\"],[0.2222222222222222,\"#7201a8\"],[0.3333333333333333,\"#9c179e\"],[0.4444444444444444,\"#bd3786\"],[0.5555555555555556,\"#d8576b\"],[0.6666666666666666,\"#ed7953\"],[0.7777777777777778,\"#fb9f3a\"],[0.8888888888888888,\"#fdca26\"],[1.0,\"#f0f921\"]]}],\"choropleth\":[{\"type\":\"choropleth\",\"colorbar\":{\"outlinewidth\":0,\"ticks\":\"\"}}],\"histogram2d\":[{\"type\":\"histogram2d\",\"colorbar\":{\"outlinewidth\":0,\"ticks\":\"\"},\"colorscale\":[[0.0,\"#0d0887\"],[0.1111111111111111,\"#46039f\"],[0.2222222222222222,\"#7201a8\"],[0.3333333333333333,\"#9c179e\"],[0.4444444444444444,\"#bd3786\"],[0.5555555555555556,\"#d8576b\"],[0.6666666666666666,\"#ed7953\"],[0.7777777777777778,\"#fb9f3a\"],[0.8888888888888888,\"#fdca26\"],[1.0,\"#f0f921\"]]}],\"heatmap\":[{\"type\":\"heatmap\",\"colorbar\":{\"outlinewidth\":0,\"ticks\":\"\"},\"colorscale\":[[0.0,\"#0d0887\"],[0.1111111111111111,\"#46039f\"],[0.2222222222222222,\"#7201a8\"],[0.3333333333333333,\"#9c179e\"],[0.4444444444444444,\"#bd3786\"],[0.5555555555555556,\"#d8576b\"],[0.6666666666666666,\"#ed7953\"],[0.7777777777777778,\"#fb9f3a\"],[0.8888888888888888,\"#fdca26\"],[1.0,\"#f0f921\"]]}],\"heatmapgl\":[{\"type\":\"heatmapgl\",\"colorbar\":{\"outlinewidth\":0,\"ticks\":\"\"},\"colorscale\":[[0.0,\"#0d0887\"],[0.1111111111111111,\"#46039f\"],[0.2222222222222222,\"#7201a8\"],[0.3333333333333333,\"#9c179e\"],[0.4444444444444444,\"#bd3786\"],[0.5555555555555556,\"#d8576b\"],[0.6666666666666666,\"#ed7953\"],[0.7777777777777778,\"#fb9f3a\"],[0.8888888888888888,\"#fdca26\"],[1.0,\"#f0f921\"]]}],\"contourcarpet\":[{\"type\":\"contourcarpet\",\"colorbar\":{\"outlinewidth\":0,\"ticks\":\"\"}}],\"contour\":[{\"type\":\"contour\",\"colorbar\":{\"outlinewidth\":0,\"ticks\":\"\"},\"colorscale\":[[0.0,\"#0d0887\"],[0.1111111111111111,\"#46039f\"],[0.2222222222222222,\"#7201a8\"],[0.3333333333333333,\"#9c179e\"],[0.4444444444444444,\"#bd3786\"],[0.5555555555555556,\"#d8576b\"],[0.6666666666666666,\"#ed7953\"],[0.7777777777777778,\"#fb9f3a\"],[0.8888888888888888,\"#fdca26\"],[1.0,\"#f0f921\"]]}],\"surface\":[{\"type\":\"surface\",\"colorbar\":{\"outlinewidth\":0,\"ticks\":\"\"},\"colorscale\":[[0.0,\"#0d0887\"],[0.1111111111111111,\"#46039f\"],[0.2222222222222222,\"#7201a8\"],[0.3333333333333333,\"#9c179e\"],[0.4444444444444444,\"#bd3786\"],[0.5555555555555556,\"#d8576b\"],[0.6666666666666666,\"#ed7953\"],[0.7777777777777778,\"#fb9f3a\"],[0.8888888888888888,\"#fdca26\"],[1.0,\"#f0f921\"]]}],\"mesh3d\":[{\"type\":\"mesh3d\",\"colorbar\":{\"outlinewidth\":0,\"ticks\":\"\"}}],\"scatter\":[{\"fillpattern\":{\"fillmode\":\"overlay\",\"size\":10,\"solidity\":0.2},\"type\":\"scatter\"}],\"parcoords\":[{\"type\":\"parcoords\",\"line\":{\"colorbar\":{\"outlinewidth\":0,\"ticks\":\"\"}}}],\"scatterpolargl\":[{\"type\":\"scatterpolargl\",\"marker\":{\"colorbar\":{\"outlinewidth\":0,\"ticks\":\"\"}}}],\"bar\":[{\"error_x\":{\"color\":\"#2a3f5f\"},\"error_y\":{\"color\":\"#2a3f5f\"},\"marker\":{\"line\":{\"color\":\"#E5ECF6\",\"width\":0.5},\"pattern\":{\"fillmode\":\"overlay\",\"size\":10,\"solidity\":0.2}},\"type\":\"bar\"}],\"scattergeo\":[{\"type\":\"scattergeo\",\"marker\":{\"colorbar\":{\"outlinewidth\":0,\"ticks\":\"\"}}}],\"scatterpolar\":[{\"type\":\"scatterpolar\",\"marker\":{\"colorbar\":{\"outlinewidth\":0,\"ticks\":\"\"}}}],\"histogram\":[{\"marker\":{\"pattern\":{\"fillmode\":\"overlay\",\"size\":10,\"solidity\":0.2}},\"type\":\"histogram\"}],\"scattergl\":[{\"type\":\"scattergl\",\"marker\":{\"colorbar\":{\"outlinewidth\":0,\"ticks\":\"\"}}}],\"scatter3d\":[{\"type\":\"scatter3d\",\"line\":{\"colorbar\":{\"outlinewidth\":0,\"ticks\":\"\"}},\"marker\":{\"colorbar\":{\"outlinewidth\":0,\"ticks\":\"\"}}}],\"scattermapbox\":[{\"type\":\"scattermapbox\",\"marker\":{\"colorbar\":{\"outlinewidth\":0,\"ticks\":\"\"}}}],\"scatterternary\":[{\"type\":\"scatterternary\",\"marker\":{\"colorbar\":{\"outlinewidth\":0,\"ticks\":\"\"}}}],\"scattercarpet\":[{\"type\":\"scattercarpet\",\"marker\":{\"colorbar\":{\"outlinewidth\":0,\"ticks\":\"\"}}}],\"carpet\":[{\"aaxis\":{\"endlinecolor\":\"#2a3f5f\",\"gridcolor\":\"white\",\"linecolor\":\"white\",\"minorgridcolor\":\"white\",\"startlinecolor\":\"#2a3f5f\"},\"baxis\":{\"endlinecolor\":\"#2a3f5f\",\"gridcolor\":\"white\",\"linecolor\":\"white\",\"minorgridcolor\":\"white\",\"startlinecolor\":\"#2a3f5f\"},\"type\":\"carpet\"}],\"table\":[{\"cells\":{\"fill\":{\"color\":\"#EBF0F8\"},\"line\":{\"color\":\"white\"}},\"header\":{\"fill\":{\"color\":\"#C8D4E3\"},\"line\":{\"color\":\"white\"}},\"type\":\"table\"}],\"barpolar\":[{\"marker\":{\"line\":{\"color\":\"#E5ECF6\",\"width\":0.5},\"pattern\":{\"fillmode\":\"overlay\",\"size\":10,\"solidity\":0.2}},\"type\":\"barpolar\"}],\"pie\":[{\"automargin\":true,\"type\":\"pie\"}]},\"layout\":{\"autotypenumbers\":\"strict\",\"colorway\":[\"#636efa\",\"#EF553B\",\"#00cc96\",\"#ab63fa\",\"#FFA15A\",\"#19d3f3\",\"#FF6692\",\"#B6E880\",\"#FF97FF\",\"#FECB52\"],\"font\":{\"color\":\"#2a3f5f\"},\"hovermode\":\"closest\",\"hoverlabel\":{\"align\":\"left\"},\"paper_bgcolor\":\"white\",\"plot_bgcolor\":\"#E5ECF6\",\"polar\":{\"bgcolor\":\"#E5ECF6\",\"angularaxis\":{\"gridcolor\":\"white\",\"linecolor\":\"white\",\"ticks\":\"\"},\"radialaxis\":{\"gridcolor\":\"white\",\"linecolor\":\"white\",\"ticks\":\"\"}},\"ternary\":{\"bgcolor\":\"#E5ECF6\",\"aaxis\":{\"gridcolor\":\"white\",\"linecolor\":\"white\",\"ticks\":\"\"},\"baxis\":{\"gridcolor\":\"white\",\"linecolor\":\"white\",\"ticks\":\"\"},\"caxis\":{\"gridcolor\":\"white\",\"linecolor\":\"white\",\"ticks\":\"\"}},\"coloraxis\":{\"colorbar\":{\"outlinewidth\":0,\"ticks\":\"\"}},\"colorscale\":{\"sequential\":[[0.0,\"#0d0887\"],[0.1111111111111111,\"#46039f\"],[0.2222222222222222,\"#7201a8\"],[0.3333333333333333,\"#9c179e\"],[0.4444444444444444,\"#bd3786\"],[0.5555555555555556,\"#d8576b\"],[0.6666666666666666,\"#ed7953\"],[0.7777777777777778,\"#fb9f3a\"],[0.8888888888888888,\"#fdca26\"],[1.0,\"#f0f921\"]],\"sequentialminus\":[[0.0,\"#0d0887\"],[0.1111111111111111,\"#46039f\"],[0.2222222222222222,\"#7201a8\"],[0.3333333333333333,\"#9c179e\"],[0.4444444444444444,\"#bd3786\"],[0.5555555555555556,\"#d8576b\"],[0.6666666666666666,\"#ed7953\"],[0.7777777777777778,\"#fb9f3a\"],[0.8888888888888888,\"#fdca26\"],[1.0,\"#f0f921\"]],\"diverging\":[[0,\"#8e0152\"],[0.1,\"#c51b7d\"],[0.2,\"#de77ae\"],[0.3,\"#f1b6da\"],[0.4,\"#fde0ef\"],[0.5,\"#f7f7f7\"],[0.6,\"#e6f5d0\"],[0.7,\"#b8e186\"],[0.8,\"#7fbc41\"],[0.9,\"#4d9221\"],[1,\"#276419\"]]},\"xaxis\":{\"gridcolor\":\"white\",\"linecolor\":\"white\",\"ticks\":\"\",\"title\":{\"standoff\":15},\"zerolinecolor\":\"white\",\"automargin\":true,\"zerolinewidth\":2},\"yaxis\":{\"gridcolor\":\"white\",\"linecolor\":\"white\",\"ticks\":\"\",\"title\":{\"standoff\":15},\"zerolinecolor\":\"white\",\"automargin\":true,\"zerolinewidth\":2},\"scene\":{\"xaxis\":{\"backgroundcolor\":\"#E5ECF6\",\"gridcolor\":\"white\",\"linecolor\":\"white\",\"showbackground\":true,\"ticks\":\"\",\"zerolinecolor\":\"white\",\"gridwidth\":2},\"yaxis\":{\"backgroundcolor\":\"#E5ECF6\",\"gridcolor\":\"white\",\"linecolor\":\"white\",\"showbackground\":true,\"ticks\":\"\",\"zerolinecolor\":\"white\",\"gridwidth\":2},\"zaxis\":{\"backgroundcolor\":\"#E5ECF6\",\"gridcolor\":\"white\",\"linecolor\":\"white\",\"showbackground\":true,\"ticks\":\"\",\"zerolinecolor\":\"white\",\"gridwidth\":2}},\"shapedefaults\":{\"line\":{\"color\":\"#2a3f5f\"}},\"annotationdefaults\":{\"arrowcolor\":\"#2a3f5f\",\"arrowhead\":0,\"arrowwidth\":1},\"geo\":{\"bgcolor\":\"white\",\"landcolor\":\"#E5ECF6\",\"subunitcolor\":\"white\",\"showland\":true,\"showlakes\":true,\"lakecolor\":\"white\"},\"title\":{\"x\":0.05},\"mapbox\":{\"style\":\"light\"}}},\"xaxis\":{\"anchor\":\"y\",\"domain\":[0.0,1.0],\"title\":{\"text\":\"x\"}},\"yaxis\":{\"anchor\":\"x\",\"domain\":[0.0,1.0],\"title\":{\"text\":\"y\"}},\"legend\":{\"tracegroupgap\":0},\"margin\":{\"t\":60},\"barmode\":\"relative\"},                        {\"responsive\": true}                    ).then(function(){\n",
       "                            \n",
       "var gd = document.getElementById('3654d9cf-9439-40e6-abe9-84fd39c9285a');\n",
       "var x = new MutationObserver(function (mutations, observer) {{\n",
       "        var display = window.getComputedStyle(gd).display;\n",
       "        if (!display || display === 'none') {{\n",
       "            console.log([gd, 'removed!']);\n",
       "            Plotly.purge(gd);\n",
       "            observer.disconnect();\n",
       "        }}\n",
       "}});\n",
       "\n",
       "// Listen for the removal of the full notebook cells\n",
       "var notebookContainer = gd.closest('#notebook-container');\n",
       "if (notebookContainer) {{\n",
       "    x.observe(notebookContainer, {childList: true});\n",
       "}}\n",
       "\n",
       "// Listen for the clearing of the current output cell\n",
       "var outputEl = gd.closest('.output');\n",
       "if (outputEl) {{\n",
       "    x.observe(outputEl, {childList: true});\n",
       "}}\n",
       "\n",
       "                        })                };                });            </script>        </div>"
      ]
     },
     "metadata": {},
     "output_type": "display_data"
    }
   ],
   "source": [
    "fig = px.bar(x=pddf[pddf.columns[0]], y=pddf[pddf.columns[1]])\n",
    "fig.show()"
   ]
  },
  {
   "cell_type": "code",
   "execution_count": null,
   "id": "54675014-0b6f-4d32-95c1-b65624bd50cf",
   "metadata": {},
   "outputs": [],
   "source": []
  },
  {
   "cell_type": "code",
   "execution_count": 16,
   "id": "fc2992fb-d2b9-45ce-9e98-3ef9f9aee8a3",
   "metadata": {},
   "outputs": [
    {
     "data": {
      "text/plain": [
       "0     Finance, insurance, real estate, rental, and l...\n",
       "1                                         Manufacturing\n",
       "2                    Professional and business services\n",
       "3                    Real estate and rental and leasing\n",
       "4                                            Government\n",
       "5                                           Real estate\n",
       "6                                 Finance and insurance\n",
       "7                                         Durable goods\n",
       "8                                      Nondurable goods\n",
       "9     Educational services, health care, and social ...\n",
       "10                                      State and local\n",
       "11                    Health care and social assistance\n",
       "12     Professional, scientific, and technical services\n",
       "13                                   General government\n",
       "14                                              Housing\n",
       "15                                         Retail trade\n",
       "16                                      Wholesale trade\n",
       "17                                          Information\n",
       "18                                         Construction\n",
       "19    Miscellaneous professional, scientific, and te...\n",
       "20                                    Other real estate\n",
       "21            Insurance carriers and related activities\n",
       "22                                              Federal\n",
       "23                                         Other retail\n",
       "24    Arts, entertainment, recreation, accommodation...\n",
       "25                       Transportation and warehousing\n",
       "26         Administrative and waste management services\n",
       "27                                   General government\n",
       "28                      Ambulatory health care services\n",
       "29                  Administrative and support services\n",
       "Name: Sector, dtype: object"
      ]
     },
     "execution_count": 16,
     "metadata": {},
     "output_type": "execute_result"
    }
   ],
   "source": []
  },
  {
   "cell_type": "code",
   "execution_count": 21,
   "id": "fe581e0f-88ed-4366-a377-9a3303ab2b5e",
   "metadata": {},
   "outputs": [
    {
     "data": {
      "application/vnd.plotly.v1+json": {
       "config": {
        "plotlyServerURL": "https://plot.ly"
       },
       "data": [
        {
         "alignmentgroup": "True",
         "hovertemplate": "x=%{x}<br>y=%{y}<extra></extra>",
         "legendgroup": "",
         "marker": {
          "color": "#636efa",
          "pattern": {
           "shape": ""
          }
         },
         "name": "",
         "offsetgroup": "",
         "orientation": "v",
         "showlegend": false,
         "textposition": "auto",
         "type": "bar",
         "x": [
          "Finance, insurance, real estate, rental, and leasing",
          "Manufacturing",
          "Professional and business services",
          "Real estate and rental and leasing",
          "Government",
          "Real estate",
          "Finance and insurance",
          "Durable goods",
          "Nondurable goods",
          "Educational services, health care, and social assistance",
          "State and local",
          "Health care and social assistance",
          "Professional, scientific, and technical services",
          "General government",
          "Housing",
          "Retail trade",
          "Wholesale trade",
          "Information",
          "Construction",
          "Miscellaneous professional, scientific, and technical services",
          "Other real estate",
          "Insurance carriers and related activities",
          "Federal",
          "Other retail",
          "Arts, entertainment, recreation, accommodation, and food services",
          "Transportation and warehousing",
          "Administrative and waste management services",
          "General government",
          "Ambulatory health care services",
          "Administrative and support services"
         ],
         "xaxis": "x",
         "y": [
          "7_874.30",
          "6_409.30",
          "4_504.80",
          "4_368.40",
          "4_264.60",
          "4_008.70",
          "3_505.90",
          "3_345.00",
          "3_064.30",
          "3_047.60",
          "2_899.50",
          "2_680.30",
          "2_543.80",
          "2_506.70",
          "2_487.80",
          "2_300.80",
          "2_216.60",
          "2_159.40",
          "1_875.30",
          "1_634.30",
          "1_520.90",
          "1_421.50",
          "1_365.10",
          "1_330.00",
          "1_296.90",
          "1_273.70",
          "1_268.60",
          "1_265.30",
          "1_163.40",
          "1_153.80"
         ],
         "yaxis": "y"
        }
       ],
       "layout": {
        "autosize": true,
        "barmode": "relative",
        "legend": {
         "tracegroupgap": 0
        },
        "margin": {
         "t": 60
        },
        "template": {
         "data": {
          "bar": [
           {
            "error_x": {
             "color": "#2a3f5f"
            },
            "error_y": {
             "color": "#2a3f5f"
            },
            "marker": {
             "line": {
              "color": "#E5ECF6",
              "width": 0.5
             },
             "pattern": {
              "fillmode": "overlay",
              "size": 10,
              "solidity": 0.2
             }
            },
            "type": "bar"
           }
          ],
          "barpolar": [
           {
            "marker": {
             "line": {
              "color": "#E5ECF6",
              "width": 0.5
             },
             "pattern": {
              "fillmode": "overlay",
              "size": 10,
              "solidity": 0.2
             }
            },
            "type": "barpolar"
           }
          ],
          "carpet": [
           {
            "aaxis": {
             "endlinecolor": "#2a3f5f",
             "gridcolor": "white",
             "linecolor": "white",
             "minorgridcolor": "white",
             "startlinecolor": "#2a3f5f"
            },
            "baxis": {
             "endlinecolor": "#2a3f5f",
             "gridcolor": "white",
             "linecolor": "white",
             "minorgridcolor": "white",
             "startlinecolor": "#2a3f5f"
            },
            "type": "carpet"
           }
          ],
          "choropleth": [
           {
            "colorbar": {
             "outlinewidth": 0,
             "ticks": ""
            },
            "type": "choropleth"
           }
          ],
          "contour": [
           {
            "colorbar": {
             "outlinewidth": 0,
             "ticks": ""
            },
            "colorscale": [
             [
              0,
              "#0d0887"
             ],
             [
              0.1111111111111111,
              "#46039f"
             ],
             [
              0.2222222222222222,
              "#7201a8"
             ],
             [
              0.3333333333333333,
              "#9c179e"
             ],
             [
              0.4444444444444444,
              "#bd3786"
             ],
             [
              0.5555555555555556,
              "#d8576b"
             ],
             [
              0.6666666666666666,
              "#ed7953"
             ],
             [
              0.7777777777777778,
              "#fb9f3a"
             ],
             [
              0.8888888888888888,
              "#fdca26"
             ],
             [
              1,
              "#f0f921"
             ]
            ],
            "type": "contour"
           }
          ],
          "contourcarpet": [
           {
            "colorbar": {
             "outlinewidth": 0,
             "ticks": ""
            },
            "type": "contourcarpet"
           }
          ],
          "heatmap": [
           {
            "colorbar": {
             "outlinewidth": 0,
             "ticks": ""
            },
            "colorscale": [
             [
              0,
              "#0d0887"
             ],
             [
              0.1111111111111111,
              "#46039f"
             ],
             [
              0.2222222222222222,
              "#7201a8"
             ],
             [
              0.3333333333333333,
              "#9c179e"
             ],
             [
              0.4444444444444444,
              "#bd3786"
             ],
             [
              0.5555555555555556,
              "#d8576b"
             ],
             [
              0.6666666666666666,
              "#ed7953"
             ],
             [
              0.7777777777777778,
              "#fb9f3a"
             ],
             [
              0.8888888888888888,
              "#fdca26"
             ],
             [
              1,
              "#f0f921"
             ]
            ],
            "type": "heatmap"
           }
          ],
          "heatmapgl": [
           {
            "colorbar": {
             "outlinewidth": 0,
             "ticks": ""
            },
            "colorscale": [
             [
              0,
              "#0d0887"
             ],
             [
              0.1111111111111111,
              "#46039f"
             ],
             [
              0.2222222222222222,
              "#7201a8"
             ],
             [
              0.3333333333333333,
              "#9c179e"
             ],
             [
              0.4444444444444444,
              "#bd3786"
             ],
             [
              0.5555555555555556,
              "#d8576b"
             ],
             [
              0.6666666666666666,
              "#ed7953"
             ],
             [
              0.7777777777777778,
              "#fb9f3a"
             ],
             [
              0.8888888888888888,
              "#fdca26"
             ],
             [
              1,
              "#f0f921"
             ]
            ],
            "type": "heatmapgl"
           }
          ],
          "histogram": [
           {
            "marker": {
             "pattern": {
              "fillmode": "overlay",
              "size": 10,
              "solidity": 0.2
             }
            },
            "type": "histogram"
           }
          ],
          "histogram2d": [
           {
            "colorbar": {
             "outlinewidth": 0,
             "ticks": ""
            },
            "colorscale": [
             [
              0,
              "#0d0887"
             ],
             [
              0.1111111111111111,
              "#46039f"
             ],
             [
              0.2222222222222222,
              "#7201a8"
             ],
             [
              0.3333333333333333,
              "#9c179e"
             ],
             [
              0.4444444444444444,
              "#bd3786"
             ],
             [
              0.5555555555555556,
              "#d8576b"
             ],
             [
              0.6666666666666666,
              "#ed7953"
             ],
             [
              0.7777777777777778,
              "#fb9f3a"
             ],
             [
              0.8888888888888888,
              "#fdca26"
             ],
             [
              1,
              "#f0f921"
             ]
            ],
            "type": "histogram2d"
           }
          ],
          "histogram2dcontour": [
           {
            "colorbar": {
             "outlinewidth": 0,
             "ticks": ""
            },
            "colorscale": [
             [
              0,
              "#0d0887"
             ],
             [
              0.1111111111111111,
              "#46039f"
             ],
             [
              0.2222222222222222,
              "#7201a8"
             ],
             [
              0.3333333333333333,
              "#9c179e"
             ],
             [
              0.4444444444444444,
              "#bd3786"
             ],
             [
              0.5555555555555556,
              "#d8576b"
             ],
             [
              0.6666666666666666,
              "#ed7953"
             ],
             [
              0.7777777777777778,
              "#fb9f3a"
             ],
             [
              0.8888888888888888,
              "#fdca26"
             ],
             [
              1,
              "#f0f921"
             ]
            ],
            "type": "histogram2dcontour"
           }
          ],
          "mesh3d": [
           {
            "colorbar": {
             "outlinewidth": 0,
             "ticks": ""
            },
            "type": "mesh3d"
           }
          ],
          "parcoords": [
           {
            "line": {
             "colorbar": {
              "outlinewidth": 0,
              "ticks": ""
             }
            },
            "type": "parcoords"
           }
          ],
          "pie": [
           {
            "automargin": true,
            "type": "pie"
           }
          ],
          "scatter": [
           {
            "fillpattern": {
             "fillmode": "overlay",
             "size": 10,
             "solidity": 0.2
            },
            "type": "scatter"
           }
          ],
          "scatter3d": [
           {
            "line": {
             "colorbar": {
              "outlinewidth": 0,
              "ticks": ""
             }
            },
            "marker": {
             "colorbar": {
              "outlinewidth": 0,
              "ticks": ""
             }
            },
            "type": "scatter3d"
           }
          ],
          "scattercarpet": [
           {
            "marker": {
             "colorbar": {
              "outlinewidth": 0,
              "ticks": ""
             }
            },
            "type": "scattercarpet"
           }
          ],
          "scattergeo": [
           {
            "marker": {
             "colorbar": {
              "outlinewidth": 0,
              "ticks": ""
             }
            },
            "type": "scattergeo"
           }
          ],
          "scattergl": [
           {
            "marker": {
             "colorbar": {
              "outlinewidth": 0,
              "ticks": ""
             }
            },
            "type": "scattergl"
           }
          ],
          "scattermapbox": [
           {
            "marker": {
             "colorbar": {
              "outlinewidth": 0,
              "ticks": ""
             }
            },
            "type": "scattermapbox"
           }
          ],
          "scatterpolar": [
           {
            "marker": {
             "colorbar": {
              "outlinewidth": 0,
              "ticks": ""
             }
            },
            "type": "scatterpolar"
           }
          ],
          "scatterpolargl": [
           {
            "marker": {
             "colorbar": {
              "outlinewidth": 0,
              "ticks": ""
             }
            },
            "type": "scatterpolargl"
           }
          ],
          "scatterternary": [
           {
            "marker": {
             "colorbar": {
              "outlinewidth": 0,
              "ticks": ""
             }
            },
            "type": "scatterternary"
           }
          ],
          "surface": [
           {
            "colorbar": {
             "outlinewidth": 0,
             "ticks": ""
            },
            "colorscale": [
             [
              0,
              "#0d0887"
             ],
             [
              0.1111111111111111,
              "#46039f"
             ],
             [
              0.2222222222222222,
              "#7201a8"
             ],
             [
              0.3333333333333333,
              "#9c179e"
             ],
             [
              0.4444444444444444,
              "#bd3786"
             ],
             [
              0.5555555555555556,
              "#d8576b"
             ],
             [
              0.6666666666666666,
              "#ed7953"
             ],
             [
              0.7777777777777778,
              "#fb9f3a"
             ],
             [
              0.8888888888888888,
              "#fdca26"
             ],
             [
              1,
              "#f0f921"
             ]
            ],
            "type": "surface"
           }
          ],
          "table": [
           {
            "cells": {
             "fill": {
              "color": "#EBF0F8"
             },
             "line": {
              "color": "white"
             }
            },
            "header": {
             "fill": {
              "color": "#C8D4E3"
             },
             "line": {
              "color": "white"
             }
            },
            "type": "table"
           }
          ]
         },
         "layout": {
          "annotationdefaults": {
           "arrowcolor": "#2a3f5f",
           "arrowhead": 0,
           "arrowwidth": 1
          },
          "autotypenumbers": "strict",
          "coloraxis": {
           "colorbar": {
            "outlinewidth": 0,
            "ticks": ""
           }
          },
          "colorscale": {
           "diverging": [
            [
             0,
             "#8e0152"
            ],
            [
             0.1,
             "#c51b7d"
            ],
            [
             0.2,
             "#de77ae"
            ],
            [
             0.3,
             "#f1b6da"
            ],
            [
             0.4,
             "#fde0ef"
            ],
            [
             0.5,
             "#f7f7f7"
            ],
            [
             0.6,
             "#e6f5d0"
            ],
            [
             0.7,
             "#b8e186"
            ],
            [
             0.8,
             "#7fbc41"
            ],
            [
             0.9,
             "#4d9221"
            ],
            [
             1,
             "#276419"
            ]
           ],
           "sequential": [
            [
             0,
             "#0d0887"
            ],
            [
             0.1111111111111111,
             "#46039f"
            ],
            [
             0.2222222222222222,
             "#7201a8"
            ],
            [
             0.3333333333333333,
             "#9c179e"
            ],
            [
             0.4444444444444444,
             "#bd3786"
            ],
            [
             0.5555555555555556,
             "#d8576b"
            ],
            [
             0.6666666666666666,
             "#ed7953"
            ],
            [
             0.7777777777777778,
             "#fb9f3a"
            ],
            [
             0.8888888888888888,
             "#fdca26"
            ],
            [
             1,
             "#f0f921"
            ]
           ],
           "sequentialminus": [
            [
             0,
             "#0d0887"
            ],
            [
             0.1111111111111111,
             "#46039f"
            ],
            [
             0.2222222222222222,
             "#7201a8"
            ],
            [
             0.3333333333333333,
             "#9c179e"
            ],
            [
             0.4444444444444444,
             "#bd3786"
            ],
            [
             0.5555555555555556,
             "#d8576b"
            ],
            [
             0.6666666666666666,
             "#ed7953"
            ],
            [
             0.7777777777777778,
             "#fb9f3a"
            ],
            [
             0.8888888888888888,
             "#fdca26"
            ],
            [
             1,
             "#f0f921"
            ]
           ]
          },
          "colorway": [
           "#636efa",
           "#EF553B",
           "#00cc96",
           "#ab63fa",
           "#FFA15A",
           "#19d3f3",
           "#FF6692",
           "#B6E880",
           "#FF97FF",
           "#FECB52"
          ],
          "font": {
           "color": "#2a3f5f"
          },
          "geo": {
           "bgcolor": "white",
           "lakecolor": "white",
           "landcolor": "#E5ECF6",
           "showlakes": true,
           "showland": true,
           "subunitcolor": "white"
          },
          "hoverlabel": {
           "align": "left"
          },
          "hovermode": "closest",
          "mapbox": {
           "style": "light"
          },
          "paper_bgcolor": "white",
          "plot_bgcolor": "#E5ECF6",
          "polar": {
           "angularaxis": {
            "gridcolor": "white",
            "linecolor": "white",
            "ticks": ""
           },
           "bgcolor": "#E5ECF6",
           "radialaxis": {
            "gridcolor": "white",
            "linecolor": "white",
            "ticks": ""
           }
          },
          "scene": {
           "xaxis": {
            "backgroundcolor": "#E5ECF6",
            "gridcolor": "white",
            "gridwidth": 2,
            "linecolor": "white",
            "showbackground": true,
            "ticks": "",
            "zerolinecolor": "white"
           },
           "yaxis": {
            "backgroundcolor": "#E5ECF6",
            "gridcolor": "white",
            "gridwidth": 2,
            "linecolor": "white",
            "showbackground": true,
            "ticks": "",
            "zerolinecolor": "white"
           },
           "zaxis": {
            "backgroundcolor": "#E5ECF6",
            "gridcolor": "white",
            "gridwidth": 2,
            "linecolor": "white",
            "showbackground": true,
            "ticks": "",
            "zerolinecolor": "white"
           }
          },
          "shapedefaults": {
           "line": {
            "color": "#2a3f5f"
           }
          },
          "ternary": {
           "aaxis": {
            "gridcolor": "white",
            "linecolor": "white",
            "ticks": ""
           },
           "baxis": {
            "gridcolor": "white",
            "linecolor": "white",
            "ticks": ""
           },
           "bgcolor": "#E5ECF6",
           "caxis": {
            "gridcolor": "white",
            "linecolor": "white",
            "ticks": ""
           }
          },
          "title": {
           "x": 0.05
          },
          "xaxis": {
           "automargin": true,
           "gridcolor": "white",
           "linecolor": "white",
           "ticks": "",
           "title": {
            "standoff": 15
           },
           "zerolinecolor": "white",
           "zerolinewidth": 2
          },
          "yaxis": {
           "automargin": true,
           "gridcolor": "white",
           "linecolor": "white",
           "ticks": "",
           "title": {
            "standoff": 15
           },
           "zerolinecolor": "white",
           "zerolinewidth": 2
          }
         }
        },
        "xaxis": {
         "anchor": "y",
         "autorange": true,
         "domain": [
          0,
          1
         ],
         "range": [
          -0.5,
          28.5
         ],
         "title": {
          "text": "x"
         },
         "type": "category"
        },
        "yaxis": {
         "anchor": "x",
         "autorange": true,
         "domain": [
          0,
          1
         ],
         "range": [
          -2.222222222222222,
          42.22222222222222
         ],
         "title": {
          "text": "y"
         },
         "type": "category"
        }
       }
      },
      "image/png": "[encoded data removed]",
      "text/html": [
       "<div>                            <div id=\"9932cbb9-8d6e-46bd-8d3a-061e8538ccbc\" class=\"plotly-graph-div\" style=\"height:525px; width:100%;\"></div>            <script type=\"text/javascript\">                require([\"plotly\"], function(Plotly) {                    window.PLOTLYENV=window.PLOTLYENV || {};                                    if (document.getElementById(\"9932cbb9-8d6e-46bd-8d3a-061e8538ccbc\")) {                    Plotly.newPlot(                        \"9932cbb9-8d6e-46bd-8d3a-061e8538ccbc\",                        [{\"alignmentgroup\":\"True\",\"hovertemplate\":\"x=%{x}<br>y=%{y}<extra></extra>\",\"legendgroup\":\"\",\"marker\":{\"color\":\"#636efa\",\"pattern\":{\"shape\":\"\"}},\"name\":\"\",\"offsetgroup\":\"\",\"orientation\":\"v\",\"showlegend\":false,\"textposition\":\"auto\",\"x\":[\"Finance, insurance, real estate, rental, and leasing\",\"Manufacturing\",\"Professional and business services\",\"Real estate and rental and leasing\",\"Government\",\"Real estate\",\"Finance and insurance\",\"Durable goods\",\"Nondurable goods\",\"Educational services, health care, and social assistance\",\"State and local\",\"Health care and social assistance\",\"Professional, scientific, and technical services\",\"General government\",\"Housing\",\"Retail trade\",\"Wholesale trade\",\"Information\",\"Construction\",\"Miscellaneous professional, scientific, and technical services\",\"Other real estate\",\"Insurance carriers and related activities\",\"Federal\",\"Other retail\",\"Arts, entertainment, recreation, accommodation, and food services\",\"Transportation and warehousing\",\"Administrative and waste management services\",\"General government\",\"Ambulatory health care services\",\"Administrative and support services\"],\"xaxis\":\"x\",\"y\":[\"7_874.30\",\"6_409.30\",\"4_504.80\",\"4_368.40\",\"4_264.60\",\"4_008.70\",\"3_505.90\",\"3_345.00\",\"3_064.30\",\"3_047.60\",\"2_899.50\",\"2_680.30\",\"2_543.80\",\"2_506.70\",\"2_487.80\",\"2_300.80\",\"2_216.60\",\"2_159.40\",\"1_875.30\",\"1_634.30\",\"1_520.90\",\"1_421.50\",\"1_365.10\",\"1_330.00\",\"1_296.90\",\"1_273.70\",\"1_268.60\",\"1_265.30\",\"1_163.40\",\"1_153.80\"],\"yaxis\":\"y\",\"type\":\"bar\"}],                        {\"template\":{\"data\":{\"histogram2dcontour\":[{\"type\":\"histogram2dcontour\",\"colorbar\":{\"outlinewidth\":0,\"ticks\":\"\"},\"colorscale\":[[0.0,\"#0d0887\"],[0.1111111111111111,\"#46039f\"],[0.2222222222222222,\"#7201a8\"],[0.3333333333333333,\"#9c179e\"],[0.4444444444444444,\"#bd3786\"],[0.5555555555555556,\"#d8576b\"],[0.6666666666666666,\"#ed7953\"],[0.7777777777777778,\"#fb9f3a\"],[0.8888888888888888,\"#fdca26\"],[1.0,\"#f0f921\"]]}],\"choropleth\":[{\"type\":\"choropleth\",\"colorbar\":{\"outlinewidth\":0,\"ticks\":\"\"}}],\"histogram2d\":[{\"type\":\"histogram2d\",\"colorbar\":{\"outlinewidth\":0,\"ticks\":\"\"},\"colorscale\":[[0.0,\"#0d0887\"],[0.1111111111111111,\"#46039f\"],[0.2222222222222222,\"#7201a8\"],[0.3333333333333333,\"#9c179e\"],[0.4444444444444444,\"#bd3786\"],[0.5555555555555556,\"#d8576b\"],[0.6666666666666666,\"#ed7953\"],[0.7777777777777778,\"#fb9f3a\"],[0.8888888888888888,\"#fdca26\"],[1.0,\"#f0f921\"]]}],\"heatmap\":[{\"type\":\"heatmap\",\"colorbar\":{\"outlinewidth\":0,\"ticks\":\"\"},\"colorscale\":[[0.0,\"#0d0887\"],[0.1111111111111111,\"#46039f\"],[0.2222222222222222,\"#7201a8\"],[0.3333333333333333,\"#9c179e\"],[0.4444444444444444,\"#bd3786\"],[0.5555555555555556,\"#d8576b\"],[0.6666666666666666,\"#ed7953\"],[0.7777777777777778,\"#fb9f3a\"],[0.8888888888888888,\"#fdca26\"],[1.0,\"#f0f921\"]]}],\"heatmapgl\":[{\"type\":\"heatmapgl\",\"colorbar\":{\"outlinewidth\":0,\"ticks\":\"\"},\"colorscale\":[[0.0,\"#0d0887\"],[0.1111111111111111,\"#46039f\"],[0.2222222222222222,\"#7201a8\"],[0.3333333333333333,\"#9c179e\"],[0.4444444444444444,\"#bd3786\"],[0.5555555555555556,\"#d8576b\"],[0.6666666666666666,\"#ed7953\"],[0.7777777777777778,\"#fb9f3a\"],[0.8888888888888888,\"#fdca26\"],[1.0,\"#f0f921\"]]}],\"contourcarpet\":[{\"type\":\"contourcarpet\",\"colorbar\":{\"outlinewidth\":0,\"ticks\":\"\"}}],\"contour\":[{\"type\":\"contour\",\"colorbar\":{\"outlinewidth\":0,\"ticks\":\"\"},\"colorscale\":[[0.0,\"#0d0887\"],[0.1111111111111111,\"#46039f\"],[0.2222222222222222,\"#7201a8\"],[0.3333333333333333,\"#9c179e\"],[0.4444444444444444,\"#bd3786\"],[0.5555555555555556,\"#d8576b\"],[0.6666666666666666,\"#ed7953\"],[0.7777777777777778,\"#fb9f3a\"],[0.8888888888888888,\"#fdca26\"],[1.0,\"#f0f921\"]]}],\"surface\":[{\"type\":\"surface\",\"colorbar\":{\"outlinewidth\":0,\"ticks\":\"\"},\"colorscale\":[[0.0,\"#0d0887\"],[0.1111111111111111,\"#46039f\"],[0.2222222222222222,\"#7201a8\"],[0.3333333333333333,\"#9c179e\"],[0.4444444444444444,\"#bd3786\"],[0.5555555555555556,\"#d8576b\"],[0.6666666666666666,\"#ed7953\"],[0.7777777777777778,\"#fb9f3a\"],[0.8888888888888888,\"#fdca26\"],[1.0,\"#f0f921\"]]}],\"mesh3d\":[{\"type\":\"mesh3d\",\"colorbar\":{\"outlinewidth\":0,\"ticks\":\"\"}}],\"scatter\":[{\"fillpattern\":{\"fillmode\":\"overlay\",\"size\":10,\"solidity\":0.2},\"type\":\"scatter\"}],\"parcoords\":[{\"type\":\"parcoords\",\"line\":{\"colorbar\":{\"outlinewidth\":0,\"ticks\":\"\"}}}],\"scatterpolargl\":[{\"type\":\"scatterpolargl\",\"marker\":{\"colorbar\":{\"outlinewidth\":0,\"ticks\":\"\"}}}],\"bar\":[{\"error_x\":{\"color\":\"#2a3f5f\"},\"error_y\":{\"color\":\"#2a3f5f\"},\"marker\":{\"line\":{\"color\":\"#E5ECF6\",\"width\":0.5},\"pattern\":{\"fillmode\":\"overlay\",\"size\":10,\"solidity\":0.2}},\"type\":\"bar\"}],\"scattergeo\":[{\"type\":\"scattergeo\",\"marker\":{\"colorbar\":{\"outlinewidth\":0,\"ticks\":\"\"}}}],\"scatterpolar\":[{\"type\":\"scatterpolar\",\"marker\":{\"colorbar\":{\"outlinewidth\":0,\"ticks\":\"\"}}}],\"histogram\":[{\"marker\":{\"pattern\":{\"fillmode\":\"overlay\",\"size\":10,\"solidity\":0.2}},\"type\":\"histogram\"}],\"scattergl\":[{\"type\":\"scattergl\",\"marker\":{\"colorbar\":{\"outlinewidth\":0,\"ticks\":\"\"}}}],\"scatter3d\":[{\"type\":\"scatter3d\",\"line\":{\"colorbar\":{\"outlinewidth\":0,\"ticks\":\"\"}},\"marker\":{\"colorbar\":{\"outlinewidth\":0,\"ticks\":\"\"}}}],\"scattermapbox\":[{\"type\":\"scattermapbox\",\"marker\":{\"colorbar\":{\"outlinewidth\":0,\"ticks\":\"\"}}}],\"scatterternary\":[{\"type\":\"scatterternary\",\"marker\":{\"colorbar\":{\"outlinewidth\":0,\"ticks\":\"\"}}}],\"scattercarpet\":[{\"type\":\"scattercarpet\",\"marker\":{\"colorbar\":{\"outlinewidth\":0,\"ticks\":\"\"}}}],\"carpet\":[{\"aaxis\":{\"endlinecolor\":\"#2a3f5f\",\"gridcolor\":\"white\",\"linecolor\":\"white\",\"minorgridcolor\":\"white\",\"startlinecolor\":\"#2a3f5f\"},\"baxis\":{\"endlinecolor\":\"#2a3f5f\",\"gridcolor\":\"white\",\"linecolor\":\"white\",\"minorgridcolor\":\"white\",\"startlinecolor\":\"#2a3f5f\"},\"type\":\"carpet\"}],\"table\":[{\"cells\":{\"fill\":{\"color\":\"#EBF0F8\"},\"line\":{\"color\":\"white\"}},\"header\":{\"fill\":{\"color\":\"#C8D4E3\"},\"line\":{\"color\":\"white\"}},\"type\":\"table\"}],\"barpolar\":[{\"marker\":{\"line\":{\"color\":\"#E5ECF6\",\"width\":0.5},\"pattern\":{\"fillmode\":\"overlay\",\"size\":10,\"solidity\":0.2}},\"type\":\"barpolar\"}],\"pie\":[{\"automargin\":true,\"type\":\"pie\"}]},\"layout\":{\"autotypenumbers\":\"strict\",\"colorway\":[\"#636efa\",\"#EF553B\",\"#00cc96\",\"#ab63fa\",\"#FFA15A\",\"#19d3f3\",\"#FF6692\",\"#B6E880\",\"#FF97FF\",\"#FECB52\"],\"font\":{\"color\":\"#2a3f5f\"},\"hovermode\":\"closest\",\"hoverlabel\":{\"align\":\"left\"},\"paper_bgcolor\":\"white\",\"plot_bgcolor\":\"#E5ECF6\",\"polar\":{\"bgcolor\":\"#E5ECF6\",\"angularaxis\":{\"gridcolor\":\"white\",\"linecolor\":\"white\",\"ticks\":\"\"},\"radialaxis\":{\"gridcolor\":\"white\",\"linecolor\":\"white\",\"ticks\":\"\"}},\"ternary\":{\"bgcolor\":\"#E5ECF6\",\"aaxis\":{\"gridcolor\":\"white\",\"linecolor\":\"white\",\"ticks\":\"\"},\"baxis\":{\"gridcolor\":\"white\",\"linecolor\":\"white\",\"ticks\":\"\"},\"caxis\":{\"gridcolor\":\"white\",\"linecolor\":\"white\",\"ticks\":\"\"}},\"coloraxis\":{\"colorbar\":{\"outlinewidth\":0,\"ticks\":\"\"}},\"colorscale\":{\"sequential\":[[0.0,\"#0d0887\"],[0.1111111111111111,\"#46039f\"],[0.2222222222222222,\"#7201a8\"],[0.3333333333333333,\"#9c179e\"],[0.4444444444444444,\"#bd3786\"],[0.5555555555555556,\"#d8576b\"],[0.6666666666666666,\"#ed7953\"],[0.7777777777777778,\"#fb9f3a\"],[0.8888888888888888,\"#fdca26\"],[1.0,\"#f0f921\"]],\"sequentialminus\":[[0.0,\"#0d0887\"],[0.1111111111111111,\"#46039f\"],[0.2222222222222222,\"#7201a8\"],[0.3333333333333333,\"#9c179e\"],[0.4444444444444444,\"#bd3786\"],[0.5555555555555556,\"#d8576b\"],[0.6666666666666666,\"#ed7953\"],[0.7777777777777778,\"#fb9f3a\"],[0.8888888888888888,\"#fdca26\"],[1.0,\"#f0f921\"]],\"diverging\":[[0,\"#8e0152\"],[0.1,\"#c51b7d\"],[0.2,\"#de77ae\"],[0.3,\"#f1b6da\"],[0.4,\"#fde0ef\"],[0.5,\"#f7f7f7\"],[0.6,\"#e6f5d0\"],[0.7,\"#b8e186\"],[0.8,\"#7fbc41\"],[0.9,\"#4d9221\"],[1,\"#276419\"]]},\"xaxis\":{\"gridcolor\":\"white\",\"linecolor\":\"white\",\"ticks\":\"\",\"title\":{\"standoff\":15},\"zerolinecolor\":\"white\",\"automargin\":true,\"zerolinewidth\":2},\"yaxis\":{\"gridcolor\":\"white\",\"linecolor\":\"white\",\"ticks\":\"\",\"title\":{\"standoff\":15},\"zerolinecolor\":\"white\",\"automargin\":true,\"zerolinewidth\":2},\"scene\":{\"xaxis\":{\"backgroundcolor\":\"#E5ECF6\",\"gridcolor\":\"white\",\"linecolor\":\"white\",\"showbackground\":true,\"ticks\":\"\",\"zerolinecolor\":\"white\",\"gridwidth\":2},\"yaxis\":{\"backgroundcolor\":\"#E5ECF6\",\"gridcolor\":\"white\",\"linecolor\":\"white\",\"showbackground\":true,\"ticks\":\"\",\"zerolinecolor\":\"white\",\"gridwidth\":2},\"zaxis\":{\"backgroundcolor\":\"#E5ECF6\",\"gridcolor\":\"white\",\"linecolor\":\"white\",\"showbackground\":true,\"ticks\":\"\",\"zerolinecolor\":\"white\",\"gridwidth\":2}},\"shapedefaults\":{\"line\":{\"color\":\"#2a3f5f\"}},\"annotationdefaults\":{\"arrowcolor\":\"#2a3f5f\",\"arrowhead\":0,\"arrowwidth\":1},\"geo\":{\"bgcolor\":\"white\",\"landcolor\":\"#E5ECF6\",\"subunitcolor\":\"white\",\"showland\":true,\"showlakes\":true,\"lakecolor\":\"white\"},\"title\":{\"x\":0.05},\"mapbox\":{\"style\":\"light\"}}},\"xaxis\":{\"anchor\":\"y\",\"domain\":[0.0,1.0],\"title\":{\"text\":\"x\"}},\"yaxis\":{\"anchor\":\"x\",\"domain\":[0.0,1.0],\"title\":{\"text\":\"y\"}},\"legend\":{\"tracegroupgap\":0},\"margin\":{\"t\":60},\"barmode\":\"relative\"},                        {\"responsive\": true}                    ).then(function(){\n",
       "                            \n",
       "var gd = document.getElementById('9932cbb9-8d6e-46bd-8d3a-061e8538ccbc');\n",
       "var x = new MutationObserver(function (mutations, observer) {{\n",
       "        var display = window.getComputedStyle(gd).display;\n",
       "        if (!display || display === 'none') {{\n",
       "            console.log([gd, 'removed!']);\n",
       "            Plotly.purge(gd);\n",
       "            observer.disconnect();\n",
       "        }}\n",
       "}});\n",
       "\n",
       "// Listen for the removal of the full notebook cells\n",
       "var notebookContainer = gd.closest('#notebook-container');\n",
       "if (notebookContainer) {{\n",
       "    x.observe(notebookContainer, {childList: true});\n",
       "}}\n",
       "\n",
       "// Listen for the clearing of the current output cell\n",
       "var outputEl = gd.closest('.output');\n",
       "if (outputEl) {{\n",
       "    x.observe(outputEl, {childList: true});\n",
       "}}\n",
       "\n",
       "                        })                };                });            </script>        </div>"
      ]
     },
     "metadata": {},
     "output_type": "display_data"
    }
   ],
   "source": [
    "fig = px.bar(x=pddf.head(30)[pddf.columns[0]], y=pddf.head(30)[pddf.columns[1]])\n",
    "fig.show()"
   ]
  },
  {
   "cell_type": "code",
   "execution_count": null,
   "id": "ab7bc035-a883-4b2e-bc2e-d29a1461313e",
   "metadata": {},
   "outputs": [],
   "source": []
  },
  {
   "cell_type": "code",
   "execution_count": null,
   "id": "8cbef2e0-a347-4387-b387-e8a509fa5bf2",
   "metadata": {},
   "outputs": [],
   "source": []
  },
  {
   "cell_type": "code",
   "execution_count": null,
   "id": "c362392c-ac31-4e60-8767-7d002cb5b67e",
   "metadata": {},
   "outputs": [],
   "source": []
  },
  {
   "cell_type": "code",
   "execution_count": null,
   "id": "496083c1-f185-42ff-a8ad-1523436ac1ae",
   "metadata": {},
   "outputs": [],
   "source": []
  },
  {
   "cell_type": "code",
   "execution_count": null,
   "id": "cb363829-91a1-4517-bf9b-4898955c4f1c",
   "metadata": {},
   "outputs": [],
   "source": []
  },
  {
   "cell_type": "code",
   "execution_count": 22,
   "id": "1f0710e4-60c6-4273-bd49-b3b472a337f6",
   "metadata": {},
   "outputs": [
    {
     "data": {
      "text/html": [
       "<table border=\"1\" class=\"dataframe\">\n",
       "  <thead>\n",
       "    <tr style=\"text-align: right;\">\n",
       "      <th>Sector</th>\n",
       "      <th>gdp_q1 (Billions USD)</th>\n",
       "    </tr>\n",
       "  </thead>\n",
       "  <tbody>\n",
       "    <tr>\n",
       "      <td>Finance, insurance, real estate, rental, and leasing</td>\n",
       "      <td>7_874.30</td>\n",
       "    </tr>\n",
       "    <tr>\n",
       "      <td>Manufacturing</td>\n",
       "      <td>6_409.30</td>\n",
       "    </tr>\n",
       "    <tr>\n",
       "      <td>Professional and business services</td>\n",
       "      <td>4_504.80</td>\n",
       "    </tr>\n",
       "    <tr>\n",
       "      <td>Real estate and rental and leasing</td>\n",
       "      <td>4_368.40</td>\n",
       "    </tr>\n",
       "    <tr>\n",
       "      <td>Government</td>\n",
       "      <td>4_264.60</td>\n",
       "    </tr>\n",
       "    <tr>\n",
       "      <td>Real estate</td>\n",
       "      <td>4_008.70</td>\n",
       "    </tr>\n",
       "    <tr>\n",
       "      <td>Finance and insurance</td>\n",
       "      <td>3_505.90</td>\n",
       "    </tr>\n",
       "    <tr>\n",
       "      <td>Durable goods</td>\n",
       "      <td>3_345.00</td>\n",
       "    </tr>\n",
       "    <tr>\n",
       "      <td>Nondurable goods</td>\n",
       "      <td>3_064.30</td>\n",
       "    </tr>\n",
       "    <tr>\n",
       "      <td>Educational services, health care, and social assistance</td>\n",
       "      <td>3_047.60</td>\n",
       "    </tr>\n",
       "    <tr>\n",
       "      <td>State and local</td>\n",
       "      <td>2_899.50</td>\n",
       "    </tr>\n",
       "    <tr>\n",
       "      <td>Health care and social assistance</td>\n",
       "      <td>2_680.30</td>\n",
       "    </tr>\n",
       "    <tr>\n",
       "      <td>Professional, scientific, and technical services</td>\n",
       "      <td>2_543.80</td>\n",
       "    </tr>\n",
       "    <tr>\n",
       "      <td>General government</td>\n",
       "      <td>2_506.70</td>\n",
       "    </tr>\n",
       "    <tr>\n",
       "      <td>Housing</td>\n",
       "      <td>2_487.80</td>\n",
       "    </tr>\n",
       "    <tr>\n",
       "      <td>Retail trade</td>\n",
       "      <td>2_300.80</td>\n",
       "    </tr>\n",
       "    <tr>\n",
       "      <td>Wholesale trade</td>\n",
       "      <td>2_216.60</td>\n",
       "    </tr>\n",
       "    <tr>\n",
       "      <td>Information</td>\n",
       "      <td>2_159.40</td>\n",
       "    </tr>\n",
       "    <tr>\n",
       "      <td>Construction</td>\n",
       "      <td>1_875.30</td>\n",
       "    </tr>\n",
       "    <tr>\n",
       "      <td>Miscellaneous professional, scientific, and technical services</td>\n",
       "      <td>1_634.30</td>\n",
       "    </tr>\n",
       "    <tr>\n",
       "      <td>Other real estate</td>\n",
       "      <td>1_520.90</td>\n",
       "    </tr>\n",
       "    <tr>\n",
       "      <td>Insurance carriers and related activities</td>\n",
       "      <td>1_421.50</td>\n",
       "    </tr>\n",
       "    <tr>\n",
       "      <td>Federal</td>\n",
       "      <td>1_365.10</td>\n",
       "    </tr>\n",
       "    <tr>\n",
       "      <td>Other retail</td>\n",
       "      <td>1_330.00</td>\n",
       "    </tr>\n",
       "    <tr>\n",
       "      <td>Arts, entertainment, recreation, accommodation, and food services</td>\n",
       "      <td>1_296.90</td>\n",
       "    </tr>\n",
       "    <tr>\n",
       "      <td>Transportation and warehousing</td>\n",
       "      <td>1_273.70</td>\n",
       "    </tr>\n",
       "    <tr>\n",
       "      <td>Administrative and waste management services</td>\n",
       "      <td>1_268.60</td>\n",
       "    </tr>\n",
       "    <tr>\n",
       "      <td>General government</td>\n",
       "      <td>1_265.30</td>\n",
       "    </tr>\n",
       "    <tr>\n",
       "      <td>Ambulatory health care services</td>\n",
       "      <td>1_163.40</td>\n",
       "    </tr>\n",
       "    <tr>\n",
       "      <td>Administrative and support services</td>\n",
       "      <td>1_153.80</td>\n",
       "    </tr>\n",
       "    <tr>\n",
       "      <td>Federal Reserve banks, credit intermediation, and related activities</td>\n",
       "      <td>1_114.20</td>\n",
       "    </tr>\n",
       "    <tr>\n",
       "      <td>Accommodation and food services</td>\n",
       "      <td>1_048.50</td>\n",
       "    </tr>\n",
       "    <tr>\n",
       "      <td>Hospitals</td>\n",
       "      <td>1_018.20</td>\n",
       "    </tr>\n",
       "    <tr>\n",
       "      <td>Food and beverage and tobacco products</td>\n",
       "      <td>989.50</td>\n",
       "    </tr>\n",
       "    <tr>\n",
       "      <td>Broadcasting and telecommunications</td>\n",
       "      <td>938.20</td>\n",
       "    </tr>\n",
       "    <tr>\n",
       "      <td>Chemical products</td>\n",
       "      <td>918.40</td>\n",
       "    </tr>\n",
       "    <tr>\n",
       "      <td>Food services and drinking places</td>\n",
       "      <td>856.10</td>\n",
       "    </tr>\n",
       "    <tr>\n",
       "      <td>Motor vehicles, bodies and trailers, and parts</td>\n",
       "      <td>838.40</td>\n",
       "    </tr>\n",
       "    <tr>\n",
       "      <td>Securities, commodity contracts, and investments</td>\n",
       "      <td>767.50</td>\n",
       "    </tr>\n",
       "    <tr>\n",
       "      <td>National defense</td>\n",
       "      <td>744.30</td>\n",
       "    </tr>\n",
       "    <tr>\n",
       "      <td>Management of companies and enterprises</td>\n",
       "      <td>692.40</td>\n",
       "    </tr>\n",
       "    <tr>\n",
       "      <td>Other services, except government</td>\n",
       "      <td>678.20</td>\n",
       "    </tr>\n",
       "    <tr>\n",
       "      <td>Data processing, internet publishing, and other information services</td>\n",
       "      <td>631.80</td>\n",
       "    </tr>\n",
       "    <tr>\n",
       "      <td>Utilities</td>\n",
       "      <td>556.60</td>\n",
       "    </tr>\n",
       "    <tr>\n",
       "      <td>Petroleum and coal products</td>\n",
       "      <td>555.70</td>\n",
       "    </tr>\n",
       "    <tr>\n",
       "      <td>Nondefense</td>\n",
       "      <td>521.00</td>\n",
       "    </tr>\n",
       "    <tr>\n",
       "      <td>Agriculture, forestry, fishing, and hunting</td>\n",
       "      <td>500.20</td>\n",
       "    </tr>\n",
       "    <tr>\n",
       "      <td>Computer systems design and related services</td>\n",
       "      <td>496.00</td>\n",
       "    </tr>\n",
       "    <tr>\n",
       "      <td>Mining</td>\n",
       "      <td>489.50</td>\n",
       "    </tr>\n",
       "    <tr>\n",
       "      <td>Publishing industries, except internet (includes software)</td>\n",
       "      <td>460.80</td>\n",
       "    </tr>\n",
       "    <tr>\n",
       "      <td>Farms</td>\n",
       "      <td>445.40</td>\n",
       "    </tr>\n",
       "    <tr>\n",
       "      <td>Computer and electronic products</td>\n",
       "      <td>431.10</td>\n",
       "    </tr>\n",
       "    <tr>\n",
       "      <td>Machinery</td>\n",
       "      <td>427.30</td>\n",
       "    </tr>\n",
       "    <tr>\n",
       "      <td>Legal services</td>\n",
       "      <td>413.40</td>\n",
       "    </tr>\n",
       "    <tr>\n",
       "      <td>Motor vehicle and parts dealers</td>\n",
       "      <td>410.70</td>\n",
       "    </tr>\n",
       "    <tr>\n",
       "      <td>Truck transportation</td>\n",
       "      <td>399.20</td>\n",
       "    </tr>\n",
       "    <tr>\n",
       "      <td>Fabricated metal products</td>\n",
       "      <td>394.70</td>\n",
       "    </tr>\n",
       "    <tr>\n",
       "      <td>Government enterprises</td>\n",
       "      <td>392.80</td>\n",
       "    </tr>\n",
       "    <tr>\n",
       "      <td>Educational services</td>\n",
       "      <td>367.30</td>\n",
       "    </tr>\n",
       "    <tr>\n",
       "      <td>Rental and leasing services and lessors of intangible assets</td>\n",
       "      <td>359.70</td>\n",
       "    </tr>\n",
       "    <tr>\n",
       "      <td>Other transportation and support activities</td>\n",
       "      <td>342.00</td>\n",
       "    </tr>\n",
       "    <tr>\n",
       "      <td>Oil and gas extraction</td>\n",
       "      <td>322.80</td>\n",
       "    </tr>\n",
       "    <tr>\n",
       "      <td>Food and beverage stores</td>\n",
       "      <td>284.70</td>\n",
       "    </tr>\n",
       "    <tr>\n",
       "      <td>General merchandise stores</td>\n",
       "      <td>275.40</td>\n",
       "    </tr>\n",
       "    <tr>\n",
       "      <td>Other transportation equipment</td>\n",
       "      <td>273.20</td>\n",
       "    </tr>\n",
       "    <tr>\n",
       "      <td>Nursing and residential care facilities</td>\n",
       "      <td>259.80</td>\n",
       "    </tr>\n",
       "    <tr>\n",
       "      <td>Primary metals</td>\n",
       "      <td>251.60</td>\n",
       "    </tr>\n",
       "    <tr>\n",
       "      <td>Arts, entertainment, and recreation</td>\n",
       "      <td>248.40</td>\n",
       "    </tr>\n",
       "    <tr>\n",
       "      <td>Plastics and rubber products</td>\n",
       "      <td>242.10</td>\n",
       "    </tr>\n",
       "    <tr>\n",
       "      <td>Social assistance</td>\n",
       "      <td>238.80</td>\n",
       "    </tr>\n",
       "    <tr>\n",
       "      <td>Miscellaneous manufacturing</td>\n",
       "      <td>213.60</td>\n",
       "    </tr>\n",
       "    <tr>\n",
       "      <td>Funds, trusts, and other financial vehicles</td>\n",
       "      <td>202.70</td>\n",
       "    </tr>\n",
       "    <tr>\n",
       "      <td>Paper products</td>\n",
       "      <td>201.00</td>\n",
       "    </tr>\n",
       "    <tr>\n",
       "      <td>Accommodation</td>\n",
       "      <td>192.50</td>\n",
       "    </tr>\n",
       "    <tr>\n",
       "      <td>Warehousing and storage</td>\n",
       "      <td>167.50</td>\n",
       "    </tr>\n",
       "    <tr>\n",
       "      <td>Nonmetallic mineral products</td>\n",
       "      <td>146.00</td>\n",
       "    </tr>\n",
       "    <tr>\n",
       "      <td>Wood products</td>\n",
       "      <td>145.10</td>\n",
       "    </tr>\n",
       "    <tr>\n",
       "      <td>Electrical equipment, appliances, and components</td>\n",
       "      <td>143.90</td>\n",
       "    </tr>\n",
       "    <tr>\n",
       "      <td>Amusements, gambling, and recreation industries</td>\n",
       "      <td>138.10</td>\n",
       "    </tr>\n",
       "    <tr>\n",
       "      <td>Motion picture and sound recording industries</td>\n",
       "      <td>128.50</td>\n",
       "    </tr>\n",
       "    <tr>\n",
       "      <td>Waste management and remediation services</td>\n",
       "      <td>114.90</td>\n",
       "    </tr>\n",
       "    <tr>\n",
       "      <td>Performing arts, spectator sports, museums, and related activities</td>\n",
       "      <td>110.30</td>\n",
       "    </tr>\n",
       "    <tr>\n",
       "      <td>Mining, except oil and gas</td>\n",
       "      <td>109.90</td>\n",
       "    </tr>\n",
       "    <tr>\n",
       "      <td>Air transportation</td>\n",
       "      <td>104.70</td>\n",
       "    </tr>\n",
       "    <tr>\n",
       "      <td>Government enterprises</td>\n",
       "      <td>99.80</td>\n",
       "    </tr>\n",
       "    <tr>\n",
       "      <td>Printing and related support activities</td>\n",
       "      <td>89.10</td>\n",
       "    </tr>\n",
       "    <tr>\n",
       "      <td>Furniture and related products</td>\n",
       "      <td>80.20</td>\n",
       "    </tr>\n",
       "    <tr>\n",
       "      <td>Rail transportation</td>\n",
       "      <td>80.00</td>\n",
       "    </tr>\n",
       "    <tr>\n",
       "      <td>Transit and ground passenger transportation</td>\n",
       "      <td>77.30</td>\n",
       "    </tr>\n",
       "    <tr>\n",
       "      <td>Pipeline transportation</td>\n",
       "      <td>67.10</td>\n",
       "    </tr>\n",
       "    <tr>\n",
       "      <td>Support activities for mining</td>\n",
       "      <td>56.90</td>\n",
       "    </tr>\n",
       "    <tr>\n",
       "      <td>Forestry, fishing, and related activities</td>\n",
       "      <td>54.80</td>\n",
       "    </tr>\n",
       "    <tr>\n",
       "      <td>Textile mills and textile product mills</td>\n",
       "      <td>48.00</td>\n",
       "    </tr>\n",
       "    <tr>\n",
       "      <td>Water transportation</td>\n",
       "      <td>35.90</td>\n",
       "    </tr>\n",
       "    <tr>\n",
       "      <td>Apparel and leather and allied products</td>\n",
       "      <td>20.60</td>\n",
       "    </tr>\n",
       "  </tbody>\n",
       "</table>"
      ],
      "text/plain": [
       "<IPython.core.display.HTML object>"
      ]
     },
     "execution_count": 22,
     "metadata": {},
     "output_type": "execute_result"
    }
   ],
   "source": [
    "HTML(pddf.to_html(index=False))"
   ]
  },
  {
   "cell_type": "code",
   "execution_count": null,
   "id": "953e5627-f4e6-4eac-ae0e-f11b830a2cb9",
   "metadata": {},
   "outputs": [],
   "source": []
  },
  {
   "cell_type": "code",
   "execution_count": null,
   "id": "7bf1bbe1-179d-4391-8d1d-e34382c34447",
   "metadata": {},
   "outputs": [],
   "source": []
  },
  {
   "cell_type": "code",
   "execution_count": null,
   "id": "d0883e50-cb4e-493d-8e52-b16a64f63b9f",
   "metadata": {},
   "outputs": [],
   "source": []
  },
  {
   "cell_type": "code",
   "execution_count": null,
   "id": "6d9a09c2-d820-4715-970b-e950dc946fd5",
   "metadata": {},
   "outputs": [],
   "source": []
  },
  {
   "cell_type": "code",
   "execution_count": null,
   "id": "6d36e59a-a2a8-4708-8bf7-6b32335a19b8",
   "metadata": {},
   "outputs": [],
   "source": []
  },
  {
   "cell_type": "code",
   "execution_count": null,
   "id": "c8fae345-0e7a-4ca3-a489-778668661dc3",
   "metadata": {},
   "outputs": [],
   "source": []
  },
  {
   "cell_type": "code",
   "execution_count": null,
   "id": "e8b175c3-4beb-4cd6-8c6d-60a287d5ca0d",
   "metadata": {},
   "outputs": [],
   "source": []
  },
  {
   "cell_type": "code",
   "execution_count": null,
   "id": "1d4cfe6f-1f04-4c16-9ebe-1bff0eaff0dd",
   "metadata": {},
   "outputs": [],
   "source": []
  },
  {
   "cell_type": "code",
   "execution_count": null,
   "id": "b6d094a3-2dd5-4e91-b1cc-0e7abe9bf838",
   "metadata": {},
   "outputs": [],
   "source": []
  }
 ],
 "metadata": {
  "kernelspec": {
   "display_name": "Python 3 (ipykernel)",
   "language": "python",
   "name": "python3"
  },
  "language_info": {
   "codemirror_mode": {
    "name": "ipython",
    "version": 3
   },
   "file_extension": ".py",
   "mimetype": "text/x-python",
   "name": "python",
   "nbconvert_exporter": "python",
   "pygments_lexer": "ipython3",
   "version": "3.10.6"
  }
 },
 "nbformat": 4,
 "nbformat_minor": 5
}
