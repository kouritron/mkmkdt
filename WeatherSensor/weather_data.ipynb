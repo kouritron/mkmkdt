{
 "cells": [
  {
   "cell_type": "code",
   "execution_count": 13,
   "id": "6d070f20-a18d-45f1-8e0b-eea41aa883bc",
   "metadata": {},
   "outputs": [],
   "source": [
    "import os, json, random, time\n",
    "\n",
    "from datetime import datetime\n",
    "from datetime import timedelta\n",
    "import subprocess as sp\n",
    "from pathlib import Path\n",
    "\n",
    "from decimal import Decimal\n",
    "\n",
    "import requests\n",
    "import pandas as pd\n",
    "import numpy as np\n",
    "from IPython.display import HTML, display"
   ]
  },
  {
   "cell_type": "code",
   "execution_count": null,
   "id": "665c5f4d-3184-45c0-8356-8b3a85eb925a",
   "metadata": {},
   "outputs": [],
   "source": []
  },
  {
   "cell_type": "code",
   "execution_count": null,
   "id": "09db440a-e6fd-4631-b3fd-6bc74c65917c",
   "metadata": {},
   "outputs": [],
   "source": [
    "# df = pd.read_csv(\"https://raw.githubusercontent.com/plotly/datasets/master/salaries-ai-jobs-net.csv\")# "
   ]
  },
  {
   "cell_type": "code",
   "execution_count": null,
   "id": "ff37601f-60da-428f-9d78-ab4328e8e502",
   "metadata": {},
   "outputs": [],
   "source": []
  },
  {
   "cell_type": "code",
   "execution_count": 70,
   "id": "d9ba9c81-2523-4a40-845f-0e5ba946365d",
   "metadata": {},
   "outputs": [],
   "source": [
    "# in flink land I have mostly seen ts in millis percision. keep that in mind\n",
    "time_now = int(time.time() - 7200)"
   ]
  },
  {
   "cell_type": "code",
   "execution_count": 71,
   "id": "41f5439d-a8de-482f-9915-dba6a069fbc6",
   "metadata": {},
   "outputs": [
    {
     "data": {
      "text/plain": [
       "'2022-12-15T19:54:23'"
      ]
     },
     "execution_count": 71,
     "metadata": {},
     "output_type": "execute_result"
    }
   ],
   "source": [
    "datetime.fromtimestamp(time_now).isoformat()"
   ]
  },
  {
   "cell_type": "code",
   "execution_count": null,
   "id": "e9250f24-35bf-4285-9d54-d37a6d8f4976",
   "metadata": {},
   "outputs": [],
   "source": []
  },
  {
   "cell_type": "raw",
   "id": "73146329-3ce2-42d7-8539-276ba6d785a6",
   "metadata": {},
   "source": [
    "// POJO (used as data class) to track one sensor reading\n",
    "public class WeatherSensorReading {\n",
    "\n",
    "    public String name;\n",
    "    public long reading_ts;\n",
    "    public double temp_celsius;\n",
    "\n",
    "    // Empty default constructor as required for serialzing POJO in Flink\n",
    "    public WeatherSensorReading() { \n",
    "        this.name = \"\";\n",
    "        this.reading_ts = 0;\n",
    "        this.temp_celsius = -300;  // -300 on celsius scale to signify invalid.\n",
    "    }\n",
    "\n",
    "    public WeatherSensorReading(String name, long reading_ts, double temp_celsius) {\n",
    "        this.name = name;\n",
    "        this.reading_ts = reading_ts;\n",
    "        this.temp_celsius = temp_celsius;\n",
    "    }\n",
    "\n",
    "    public String toString() {\n",
    "        return \"(\" + this.name + \", \" + this.reading_ts + \", \" + this.temp_celsius + \")\";\n",
    "    }\n",
    "}"
   ]
  },
  {
   "cell_type": "code",
   "execution_count": 72,
   "id": "98b72b48-0b43-4d8f-a80c-202acc2330c9",
   "metadata": {},
   "outputs": [],
   "source": [
    "class WeatherSensorReading:\n",
    "    def __init__(self):\n",
    "        self.name = f\"\"\n",
    "        self.reading_ts = 0\n",
    "        self.temp_celsius = -1\n",
    "    \n",
    "    def __str__(self):\n",
    "        return f\"({self.name}|{self.reading_ts}|{self.temp_celsius})\"\n",
    "    \n",
    "    def as_tuple(self):\n",
    "        return (self.name, self.reading_ts, self.temp_celsius) "
   ]
  },
  {
   "cell_type": "code",
   "execution_count": null,
   "id": "613b3bc1-962a-42db-bb28-3b30871be058",
   "metadata": {},
   "outputs": [],
   "source": []
  },
  {
   "cell_type": "code",
   "execution_count": 73,
   "id": "d0e4a5c3-b76e-4299-86f3-ab34b5b66ae9",
   "metadata": {},
   "outputs": [],
   "source": [
    "readings = []\n",
    "for _ in range(100):\n",
    "    wsr = WeatherSensorReading()\n",
    "    wsr.name = random.choice(['toronto_1', 'toronto_2', 'toronto_3', 'moscow_1', 'moscow_2', 'havana_1', 'havana_2'])\n",
    "    wsr.reading_ts = time_now + random.choice(list(range(-1000,1000)))\n",
    "\n",
    "    if 'toronto' in wsr.name:\n",
    "        wsr.temp_celsius = 0\n",
    "    if 'moscow' in wsr.name:\n",
    "        wsr.temp_celsius = -12\n",
    "    if 'havana' in wsr.name:\n",
    "        wsr.temp_celsius = 20\n",
    "\n",
    "    wsr.temp_celsius += random.choice(list(range(-7,7)))\n",
    "    readings.append(wsr.as_tuple())\n"
   ]
  },
  {
   "cell_type": "code",
   "execution_count": null,
   "id": "fc39f811-b9b7-43fe-a051-d20b5df559c8",
   "metadata": {},
   "outputs": [],
   "source": []
  },
  {
   "cell_type": "code",
   "execution_count": 74,
   "id": "a83409cd-6eb1-4e8e-8b35-9af4c18313e0",
   "metadata": {},
   "outputs": [],
   "source": [
    "pddf = pd.DataFrame(data=readings, columns=['name', 'reading_ts', 'temp_celsius'])"
   ]
  },
  {
   "cell_type": "code",
   "execution_count": 76,
   "id": "03f24e03-53e6-4385-ad52-007b54233d33",
   "metadata": {},
   "outputs": [
    {
     "data": {
      "text/html": [
       "<table border=\"1\" class=\"dataframe\">\n",
       "  <thead>\n",
       "    <tr style=\"text-align: right;\">\n",
       "      <th>name</th>\n",
       "      <th>reading_ts</th>\n",
       "      <th>temp_celsius</th>\n",
       "    </tr>\n",
       "  </thead>\n",
       "  <tbody>\n",
       "    <tr>\n",
       "      <td>moscow_1</td>\n",
       "      <td>1671152644</td>\n",
       "      <td>-15</td>\n",
       "    </tr>\n",
       "    <tr>\n",
       "      <td>toronto_2</td>\n",
       "      <td>1671152971</td>\n",
       "      <td>5</td>\n",
       "    </tr>\n",
       "    <tr>\n",
       "      <td>moscow_1</td>\n",
       "      <td>1671152525</td>\n",
       "      <td>-9</td>\n",
       "    </tr>\n",
       "    <tr>\n",
       "      <td>toronto_2</td>\n",
       "      <td>1671151548</td>\n",
       "      <td>1</td>\n",
       "    </tr>\n",
       "  </tbody>\n",
       "</table>"
      ],
      "text/plain": [
       "<IPython.core.display.HTML object>"
      ]
     },
     "execution_count": 76,
     "metadata": {},
     "output_type": "execute_result"
    }
   ],
   "source": [
    "HTML(pddf.head(4).to_html(index=False))"
   ]
  },
  {
   "cell_type": "code",
   "execution_count": null,
   "id": "6919261b-058b-409f-869b-6617e93b2b9c",
   "metadata": {},
   "outputs": [],
   "source": []
  },
  {
   "cell_type": "code",
   "execution_count": null,
   "id": "45583004-8e87-4754-b048-230d71ca1fe4",
   "metadata": {},
   "outputs": [],
   "source": []
  },
  {
   "cell_type": "code",
   "execution_count": null,
   "id": "cb1e8b53-ed92-4a18-8a4a-9a903ec3f6fd",
   "metadata": {},
   "outputs": [],
   "source": []
  },
  {
   "cell_type": "code",
   "execution_count": 77,
   "id": "fdeb784c-4489-450d-9303-16b73e9e04ec",
   "metadata": {},
   "outputs": [],
   "source": [
    "# TODO, put this into kafka and save as PSV, CSV"
   ]
  },
  {
   "cell_type": "code",
   "execution_count": null,
   "id": "73645df5-8c89-41f3-8b2e-def7877c664f",
   "metadata": {},
   "outputs": [],
   "source": []
  },
  {
   "cell_type": "code",
   "execution_count": null,
   "id": "1711146a-3465-45ca-ba99-6035cfa356f4",
   "metadata": {},
   "outputs": [],
   "source": []
  },
  {
   "cell_type": "code",
   "execution_count": null,
   "id": "dcc438c9-4dba-4ab7-bcc8-4873217ac503",
   "metadata": {},
   "outputs": [],
   "source": []
  },
  {
   "cell_type": "code",
   "execution_count": null,
   "id": "24d544a6-8a28-4f92-a0b3-172d35e671f9",
   "metadata": {},
   "outputs": [],
   "source": []
  },
  {
   "cell_type": "code",
   "execution_count": null,
   "id": "dcb66965-a573-4502-81c8-a29e333b7a82",
   "metadata": {},
   "outputs": [],
   "source": []
  },
  {
   "cell_type": "code",
   "execution_count": null,
   "id": "146a0347-c515-416a-8ff0-e367263e0bfb",
   "metadata": {},
   "outputs": [],
   "source": []
  },
  {
   "cell_type": "code",
   "execution_count": null,
   "id": "489c9651-4c1d-422d-9d6e-33441708e2a8",
   "metadata": {},
   "outputs": [],
   "source": []
  },
  {
   "cell_type": "code",
   "execution_count": null,
   "id": "2160efd5-1bc9-490e-933b-548b662a2bf7",
   "metadata": {},
   "outputs": [],
   "source": []
  },
  {
   "cell_type": "code",
   "execution_count": null,
   "id": "b47192b7-a7e4-4316-9c27-c49cff9cf87e",
   "metadata": {},
   "outputs": [],
   "source": []
  },
  {
   "cell_type": "code",
   "execution_count": null,
   "id": "08d5b5a1-db17-4237-bd8f-3e70b7e67e23",
   "metadata": {},
   "outputs": [],
   "source": []
  },
  {
   "cell_type": "code",
   "execution_count": null,
   "id": "78672f40-a2b2-4366-ab52-25fe7cb6caa9",
   "metadata": {},
   "outputs": [],
   "source": []
  },
  {
   "cell_type": "code",
   "execution_count": null,
   "id": "fc2992fb-d2b9-45ce-9e98-3ef9f9aee8a3",
   "metadata": {},
   "outputs": [],
   "source": []
  },
  {
   "cell_type": "code",
   "execution_count": null,
   "id": "fe581e0f-88ed-4366-a377-9a3303ab2b5e",
   "metadata": {},
   "outputs": [],
   "source": []
  },
  {
   "cell_type": "code",
   "execution_count": null,
   "id": "ab7bc035-a883-4b2e-bc2e-d29a1461313e",
   "metadata": {},
   "outputs": [],
   "source": []
  },
  {
   "cell_type": "code",
   "execution_count": null,
   "id": "8cbef2e0-a347-4387-b387-e8a509fa5bf2",
   "metadata": {},
   "outputs": [],
   "source": []
  },
  {
   "cell_type": "code",
   "execution_count": null,
   "id": "c362392c-ac31-4e60-8767-7d002cb5b67e",
   "metadata": {},
   "outputs": [],
   "source": []
  },
  {
   "cell_type": "code",
   "execution_count": null,
   "id": "496083c1-f185-42ff-a8ad-1523436ac1ae",
   "metadata": {},
   "outputs": [],
   "source": []
  },
  {
   "cell_type": "code",
   "execution_count": null,
   "id": "cb363829-91a1-4517-bf9b-4898955c4f1c",
   "metadata": {},
   "outputs": [],
   "source": []
  },
  {
   "cell_type": "code",
   "execution_count": null,
   "id": "1f0710e4-60c6-4273-bd49-b3b472a337f6",
   "metadata": {},
   "outputs": [],
   "source": []
  },
  {
   "cell_type": "code",
   "execution_count": null,
   "id": "953e5627-f4e6-4eac-ae0e-f11b830a2cb9",
   "metadata": {},
   "outputs": [],
   "source": []
  },
  {
   "cell_type": "code",
   "execution_count": null,
   "id": "7bf1bbe1-179d-4391-8d1d-e34382c34447",
   "metadata": {},
   "outputs": [],
   "source": []
  },
  {
   "cell_type": "code",
   "execution_count": null,
   "id": "d0883e50-cb4e-493d-8e52-b16a64f63b9f",
   "metadata": {},
   "outputs": [],
   "source": []
  },
  {
   "cell_type": "code",
   "execution_count": null,
   "id": "6d9a09c2-d820-4715-970b-e950dc946fd5",
   "metadata": {},
   "outputs": [],
   "source": []
  },
  {
   "cell_type": "code",
   "execution_count": null,
   "id": "6d36e59a-a2a8-4708-8bf7-6b32335a19b8",
   "metadata": {},
   "outputs": [],
   "source": []
  },
  {
   "cell_type": "code",
   "execution_count": null,
   "id": "c8fae345-0e7a-4ca3-a489-778668661dc3",
   "metadata": {},
   "outputs": [],
   "source": []
  },
  {
   "cell_type": "code",
   "execution_count": null,
   "id": "e8b175c3-4beb-4cd6-8c6d-60a287d5ca0d",
   "metadata": {},
   "outputs": [],
   "source": []
  },
  {
   "cell_type": "code",
   "execution_count": null,
   "id": "1d4cfe6f-1f04-4c16-9ebe-1bff0eaff0dd",
   "metadata": {},
   "outputs": [],
   "source": []
  },
  {
   "cell_type": "code",
   "execution_count": null,
   "id": "b6d094a3-2dd5-4e91-b1cc-0e7abe9bf838",
   "metadata": {},
   "outputs": [],
   "source": []
  }
 ],
 "metadata": {
  "kernelspec": {
   "display_name": "Python 3 (ipykernel)",
   "language": "python",
   "name": "python3"
  },
  "language_info": {
   "codemirror_mode": {
    "name": "ipython",
    "version": 3
   },
   "file_extension": ".py",
   "mimetype": "text/x-python",
   "name": "python",
   "nbconvert_exporter": "python",
   "pygments_lexer": "ipython3",
   "version": "3.10.6"
  }
 },
 "nbformat": 4,
 "nbformat_minor": 5
}
