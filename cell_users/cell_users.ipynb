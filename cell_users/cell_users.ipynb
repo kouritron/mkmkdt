{
 "cells": [
  {
   "cell_type": "code",
   "execution_count": 1,
   "id": "8bd48af6-9eda-4f44-8e46-dbc2b59f8a40",
   "metadata": {},
   "outputs": [],
   "source": [
    "import os, json, random, time\n",
    "\n",
    "from datetime import datetime\n",
    "from datetime import timedelta\n",
    "import subprocess as sp\n",
    "from pathlib import Path\n",
    "\n",
    "from decimal import Decimal\n",
    "\n",
    "import requests\n",
    "import pandas as pd\n",
    "import numpy as np\n",
    "from IPython.display import HTML, display"
   ]
  },
  {
   "cell_type": "code",
   "execution_count": null,
   "id": "3c23d5d0-cb6f-4e94-9c35-4d3c98a46b18",
   "metadata": {},
   "outputs": [],
   "source": []
  },
  {
   "cell_type": "markdown",
   "id": "8545cf39-f8e1-4bcb-9d6c-475c23e253ea",
   "metadata": {},
   "source": [
    "# cell usage data stream\n",
    "\n",
    "<pre>\n",
    "\n",
    "# -------------------------------------------------------------------------------------------------- src stream\n",
    "\n",
    "the messages (kafka speech) or events (flink speech) coming into the source look like these documents:\n",
    "{\"ts\": \"2021-11-24T00:00:00.762\", \"account\": \"324\", \"bytesUsed\": 104857 }\n",
    "{\"ts\": \"2021-11-24T00:03:00.410\", \"account\": \"781\", \"bytesUsed\": 819200 }\n",
    "\n",
    "\n",
    "# --------------------------------------------------------------------------------------------------\n",
    "*** there is another CreateTime field outside the document, not sure what to do w/ that at the momment.\n",
    "\n",
    "\n",
    "\n",
    "\n",
    "# -------------------------------------------------------------------------------------------------- dateutil\n",
    "*** datetime.fromisoformat() can not parse all ISO 8601 strings, some basics are supported.\n",
    "corner case are not. The best soln is to use dateutil if you absolutely must handle it.\n",
    "https://github.com/dateutil/dateutil\n",
    "\n",
    "*** to avoid needing the xtra package lets get rid of the the +0000\n",
    "\"2021-11-24T00:03:00.410+0000\"  --->>> becomes:\n",
    "\"2021-11-24T00:03:00.410\"\n",
    "\n",
    "no dateutil needed.\n",
    "\n",
    "# --------------------------------------------------------------------------------------------------\n",
    "\n",
    "\n",
    "\n",
    "\n",
    "# --------------------------------------------------------------------------------------------------\n",
    "\n",
    "\n",
    "\n",
    "</pre>\n"
   ]
  },
  {
   "cell_type": "code",
   "execution_count": null,
   "id": "38e25179-0c9f-4fdb-a801-443dedb8fafb",
   "metadata": {},
   "outputs": [],
   "source": []
  },
  {
   "cell_type": "code",
   "execution_count": null,
   "id": "849b9f72-5cf5-4dc7-8875-bc811322be5c",
   "metadata": {},
   "outputs": [],
   "source": []
  },
  {
   "cell_type": "markdown",
   "id": "57e8acbe-698a-4b3b-a54d-82167bd5daae",
   "metadata": {},
   "source": [
    "# datetime magic"
   ]
  },
  {
   "cell_type": "code",
   "execution_count": 2,
   "id": "bcc3e4d8-e8f6-4c5b-9a6b-4e792a8078f1",
   "metadata": {},
   "outputs": [
    {
     "data": {
      "text/plain": [
       "1641013200.0"
      ]
     },
     "execution_count": 2,
     "metadata": {},
     "output_type": "execute_result"
    }
   ],
   "source": [
    "datetime.fromisoformat(\"2022-01-01T00:00:00\").timestamp()"
   ]
  },
  {
   "cell_type": "code",
   "execution_count": 3,
   "id": "9658dafe-e2a3-4a13-8854-d369c620835f",
   "metadata": {},
   "outputs": [
    {
     "data": {
      "text/plain": [
       "1641013200.0"
      ]
     },
     "execution_count": 3,
     "metadata": {},
     "output_type": "execute_result"
    }
   ],
   "source": [
    "datetime.fromisoformat(\"2022-01-01\").timestamp()"
   ]
  },
  {
   "cell_type": "code",
   "execution_count": null,
   "id": "61d8d53f-b149-4a96-b3eb-956debdf9c6e",
   "metadata": {},
   "outputs": [],
   "source": []
  },
  {
   "cell_type": "code",
   "execution_count": 4,
   "id": "7504a51d-991b-4601-8f37-0a0654f2ee4b",
   "metadata": {},
   "outputs": [],
   "source": [
    "start_ts = datetime.fromisoformat(\"2021-01-01\").timestamp()\n",
    "end_ts   = datetime.fromisoformat(\"2022-01-01T00:00:00\").timestamp()"
   ]
  },
  {
   "cell_type": "code",
   "execution_count": 5,
   "id": "72e2bf14-8468-4389-b794-b185fff06b0b",
   "metadata": {},
   "outputs": [
    {
     "data": {
      "text/plain": [
       "1609477200.0"
      ]
     },
     "execution_count": 5,
     "metadata": {},
     "output_type": "execute_result"
    }
   ],
   "source": [
    "start_ts"
   ]
  },
  {
   "cell_type": "code",
   "execution_count": 6,
   "id": "bb950b2c-3610-4d5e-9bef-c284582ce8cd",
   "metadata": {},
   "outputs": [
    {
     "data": {
      "text/plain": [
       "datetime.timedelta(days=365)"
      ]
     },
     "execution_count": 6,
     "metadata": {},
     "output_type": "execute_result"
    }
   ],
   "source": [
    "timedelta(seconds=end_ts - start_ts)"
   ]
  },
  {
   "cell_type": "code",
   "execution_count": 7,
   "id": "0f347cb7-2644-40b4-8a58-6286c4b30720",
   "metadata": {},
   "outputs": [
    {
     "data": {
      "text/plain": [
       "datetime.datetime(2021, 4, 20, 10, 55, 36)"
      ]
     },
     "execution_count": 7,
     "metadata": {},
     "output_type": "execute_result"
    }
   ],
   "source": [
    "datetime.fromtimestamp(random.randint(start_ts, end_ts))"
   ]
  },
  {
   "cell_type": "code",
   "execution_count": null,
   "id": "9d70836e-7863-4102-ade8-51852500d523",
   "metadata": {},
   "outputs": [],
   "source": []
  },
  {
   "cell_type": "code",
   "execution_count": 8,
   "id": "de45054c-83d6-4dad-bf62-8f11c973b16e",
   "metadata": {},
   "outputs": [
    {
     "data": {
      "text/plain": [
       "'2021-01-01 00:00:00'"
      ]
     },
     "execution_count": 8,
     "metadata": {},
     "output_type": "execute_result"
    }
   ],
   "source": [
    "str(datetime.fromtimestamp(start_ts))"
   ]
  },
  {
   "cell_type": "code",
   "execution_count": null,
   "id": "62d5d511-0103-4f86-a055-61b666426d4d",
   "metadata": {},
   "outputs": [],
   "source": []
  },
  {
   "cell_type": "code",
   "execution_count": null,
   "id": "5bae80bd-3bd4-40dd-9572-3f27eb80057c",
   "metadata": {},
   "outputs": [],
   "source": []
  },
  {
   "cell_type": "code",
   "execution_count": null,
   "id": "e249cda5-c569-4296-aee7-eb48814fbe30",
   "metadata": {},
   "outputs": [],
   "source": []
  },
  {
   "cell_type": "code",
   "execution_count": null,
   "id": "af3108d7-0977-4a4c-b170-6b4e8db91ebb",
   "metadata": {},
   "outputs": [],
   "source": []
  },
  {
   "cell_type": "markdown",
   "id": "2dc66bfc-a62a-4ede-84a7-01aa831ae511",
   "metadata": {},
   "source": [
    "----\n",
    "----\n",
    "----\n",
    "----\n",
    "----\n",
    "----\n",
    "----\n",
    "----\n",
    "----\n",
    "----\n",
    "----\n",
    "# generate random data"
   ]
  },
  {
   "cell_type": "code",
   "execution_count": 9,
   "id": "9376568d-d09f-4cc6-b726-502e401f652e",
   "metadata": {},
   "outputs": [],
   "source": [
    "# {\"ts\": \"2021-11-24T00:03:00.410\", \"account\": \"781\", \"bytesUsed\": 819200 }"
   ]
  },
  {
   "cell_type": "code",
   "execution_count": 16,
   "id": "ca8a4bd2-bb11-4c4e-ad41-5142b3e53ff1",
   "metadata": {},
   "outputs": [],
   "source": [
    "def get_random_events_df(sample_size = 10):\n",
    "    sample_events = []\n",
    "\n",
    "    start_ts = datetime.fromisoformat(\"2021-08-01\").timestamp()\n",
    "    end_ts   = datetime.fromisoformat(\"2021-08-28\").timestamp()\n",
    "\n",
    "    for _ in range(sample_size):\n",
    "        curr_event = {}\n",
    "        curr_event['ts'] =  str(datetime.fromtimestamp(random.randint(start_ts, end_ts))).replace(' ', 'T')\n",
    "        curr_event['account'] =  str(random.randint(1000, 9999))\n",
    "        curr_event['bytesUsed'] =  random.randint(1024, 1024*1024)\n",
    "\n",
    "        sample_events.append(curr_event)\n",
    "    \n",
    "    # make df\n",
    "    # use dtype=object to keep things as is.\n",
    "    pddf = pd.DataFrame(data=sample_events, columns={'ts':'str', 'account':'str', 'bytesUsed':'int'})\n",
    "\n",
    "    return pddf"
   ]
  },
  {
   "cell_type": "code",
   "execution_count": 25,
   "id": "363a4efc-076d-47da-b43d-405d6a7380b1",
   "metadata": {},
   "outputs": [
    {
     "data": {
      "text/html": [
       "<table border=\"1\" class=\"dataframe\">\n",
       "  <thead>\n",
       "    <tr style=\"text-align: right;\">\n",
       "      <th>ts</th>\n",
       "      <th>account</th>\n",
       "      <th>bytesUsed</th>\n",
       "    </tr>\n",
       "  </thead>\n",
       "  <tbody>\n",
       "    <tr>\n",
       "      <td>2021-08-17T19:50:28</td>\n",
       "      <td>2177</td>\n",
       "      <td>40191</td>\n",
       "    </tr>\n",
       "    <tr>\n",
       "      <td>2021-08-22T22:28:41</td>\n",
       "      <td>6348</td>\n",
       "      <td>713007</td>\n",
       "    </tr>\n",
       "    <tr>\n",
       "      <td>2021-08-23T16:35:38</td>\n",
       "      <td>9192</td>\n",
       "      <td>194496</td>\n",
       "    </tr>\n",
       "    <tr>\n",
       "      <td>2021-08-05T00:18:14</td>\n",
       "      <td>3947</td>\n",
       "      <td>94805</td>\n",
       "    </tr>\n",
       "    <tr>\n",
       "      <td>2021-08-14T18:21:23</td>\n",
       "      <td>9056</td>\n",
       "      <td>568474</td>\n",
       "    </tr>\n",
       "  </tbody>\n",
       "</table>"
      ],
      "text/plain": [
       "<IPython.core.display.HTML object>"
      ]
     },
     "execution_count": 25,
     "metadata": {},
     "output_type": "execute_result"
    }
   ],
   "source": [
    "# -- call it\n",
    "pddf = get_random_events_df(15)\n",
    "\n",
    "HTML(pddf.head().to_html(index=False))"
   ]
  },
  {
   "cell_type": "code",
   "execution_count": 26,
   "id": "024cc583-f583-4ef7-ae6b-d35a6d9d90ac",
   "metadata": {},
   "outputs": [
    {
     "data": {
      "text/plain": [
       "array([['2021-08-17T19:50:28', '2177', 40191],\n",
       "       ['2021-08-22T22:28:41', '6348', 713007],\n",
       "       ['2021-08-23T16:35:38', '9192', 194496],\n",
       "       ['2021-08-05T00:18:14', '3947', 94805],\n",
       "       ['2021-08-14T18:21:23', '9056', 568474],\n",
       "       ['2021-08-26T06:15:09', '7673', 314399],\n",
       "       ['2021-08-13T16:46:56', '4213', 746012],\n",
       "       ['2021-08-19T08:10:01', '7306', 464389],\n",
       "       ['2021-08-27T15:48:15', '3647', 531434],\n",
       "       ['2021-08-03T12:29:48', '4091', 168406],\n",
       "       ['2021-08-14T00:58:31', '2501', 989436],\n",
       "       ['2021-08-01T18:08:38', '6624', 100400],\n",
       "       ['2021-08-24T00:16:18', '7690', 5906],\n",
       "       ['2021-08-24T00:55:25', '4483', 600987],\n",
       "       ['2021-08-09T13:04:36', '7774', 719816]], dtype=object)"
      ]
     },
     "execution_count": 26,
     "metadata": {},
     "output_type": "execute_result"
    }
   ],
   "source": [
    "pddf.values"
   ]
  },
  {
   "cell_type": "code",
   "execution_count": null,
   "id": "242dbc1a-6610-4000-858b-3bd56cb073d3",
   "metadata": {},
   "outputs": [],
   "source": []
  },
  {
   "cell_type": "code",
   "execution_count": null,
   "id": "fd0e9b0b-917d-4a8b-9bbb-fc475debae0e",
   "metadata": {},
   "outputs": [],
   "source": []
  },
  {
   "cell_type": "code",
   "execution_count": null,
   "id": "bdff5c24-5327-43e0-b83e-6814553660a6",
   "metadata": {},
   "outputs": [],
   "source": []
  },
  {
   "cell_type": "code",
   "execution_count": null,
   "id": "17edf6a1-db72-4411-84b1-d8e3ae5f18c5",
   "metadata": {},
   "outputs": [],
   "source": []
  },
  {
   "cell_type": "code",
   "execution_count": null,
   "id": "1866bd95-aebf-492c-bbdd-3761bc2f5026",
   "metadata": {},
   "outputs": [],
   "source": []
  },
  {
   "cell_type": "code",
   "execution_count": null,
   "id": "c67d9d2a-b3bb-4c07-8cdb-b2e49ec43536",
   "metadata": {},
   "outputs": [],
   "source": []
  },
  {
   "cell_type": "markdown",
   "id": "35a860ba-f1c1-4591-91d6-d24d08991cbe",
   "metadata": {},
   "source": [
    "----\n",
    "----\n",
    "----\n",
    "----\n",
    "----\n",
    "----\n",
    "----\n",
    "----\n",
    "----\n",
    "\n",
    "# choose path"
   ]
  },
  {
   "cell_type": "code",
   "execution_count": 108,
   "id": "99d93a9f-ef2b-40bc-a31e-db2135ef0121",
   "metadata": {},
   "outputs": [],
   "source": [
    "# Note we might as well leave the generated files under \n",
    "# ~/tmp_mkmkdt/xxx.json\n",
    "\n",
    "# just rename them after generation to something like w/ a row count and leave them there\n",
    "# 805      >>>>>     cell_users_20.json\n",
    "# 3.3M     >>>>>     cell_users_90k.json\n",
    "\n",
    "# commit the 20 row sample to the flink repo if you want, but best to leave them out here like this\n",
    "# as we might need very large ones 100 MB +"
   ]
  },
  {
   "cell_type": "code",
   "execution_count": null,
   "id": "0aabadf5-8715-4844-80c5-b6a5d2da22dc",
   "metadata": {},
   "outputs": [],
   "source": []
  },
  {
   "cell_type": "code",
   "execution_count": 109,
   "id": "0341786c-b1ae-4a00-91a4-d513141af3e7",
   "metadata": {},
   "outputs": [
    {
     "data": {
      "text/plain": [
       "PosixPath('/home/lu')"
      ]
     },
     "execution_count": 109,
     "metadata": {},
     "output_type": "execute_result"
    }
   ],
   "source": [
    "Path.home()"
   ]
  },
  {
   "cell_type": "code",
   "execution_count": 110,
   "id": "8fac4a71-ee65-45da-a9ec-1864b681326e",
   "metadata": {},
   "outputs": [],
   "source": [
    "temp_dir_path = Path.home() / 'tmp_mkmkdt'\n",
    "output_csv_path = temp_dir_path / 'cell_users.csv'\n",
    "output_psv_path = temp_dir_path / 'cell_users.psv'\n",
    "output_json_path = temp_dir_path / 'cell_users.json'\n"
   ]
  },
  {
   "cell_type": "code",
   "execution_count": 111,
   "id": "f00b3abf-bc9f-4ae3-a5ab-57e67dff3ce1",
   "metadata": {},
   "outputs": [
    {
     "data": {
      "text/plain": [
       "True"
      ]
     },
     "execution_count": 111,
     "metadata": {},
     "output_type": "execute_result"
    }
   ],
   "source": [
    "temp_dir_path.exists()"
   ]
  },
  {
   "cell_type": "code",
   "execution_count": 112,
   "id": "83391467-786c-4e14-80b9-eb23a7e8ba8f",
   "metadata": {},
   "outputs": [],
   "source": [
    "temp_dir_path.mkdir(parents=False, exist_ok=True)"
   ]
  },
  {
   "cell_type": "code",
   "execution_count": 113,
   "id": "03b6fd38-2e13-44f5-a808-963ea51f8f5e",
   "metadata": {},
   "outputs": [
    {
     "name": "stdout",
     "output_type": "stream",
     "text": [
      "total 6.1M\n",
      "-rw-rw-r-- 1 lu lu  805 Dec 17 17:55 cell_users_20.json\n",
      "-rw-rw-r-- 1 lu lu  657 Dec 17 17:55 cell_users_20.psv\n",
      "-rw-rw-r-- 1 lu lu 3.3M Dec 17 17:56 cell_users_90k.json\n",
      "-rw-rw-r-- 1 lu lu 2.8M Dec 17 17:56 cell_users_90k.psv\n"
     ]
    }
   ],
   "source": [
    "exit_code = sp.call(f'ls -lh {temp_dir_path}', shell=True)"
   ]
  },
  {
   "cell_type": "code",
   "execution_count": null,
   "id": "1770b083-e528-4642-bb6b-4808668e92dc",
   "metadata": {},
   "outputs": [],
   "source": []
  },
  {
   "cell_type": "code",
   "execution_count": null,
   "id": "781c28ba-805f-4106-ad50-0807bfcfd69e",
   "metadata": {},
   "outputs": [],
   "source": []
  },
  {
   "cell_type": "markdown",
   "id": "be43e492-ceb3-4562-a0ee-7e32b738b54f",
   "metadata": {},
   "source": [
    "----\n",
    "----\n",
    "----\n",
    "----\n",
    "----\n",
    "----\n",
    "----\n",
    "----\n",
    "----\n",
    "\n",
    "# generate and save"
   ]
  },
  {
   "cell_type": "code",
   "execution_count": 130,
   "id": "44dcb0e9-62b8-41ee-a06d-8b19f4047fe9",
   "metadata": {},
   "outputs": [
    {
     "data": {
      "text/html": [
       "<table border=\"1\" class=\"dataframe\">\n",
       "  <thead>\n",
       "    <tr style=\"text-align: right;\">\n",
       "      <th>ts</th>\n",
       "      <th>account</th>\n",
       "      <th>bytesUsed</th>\n",
       "    </tr>\n",
       "  </thead>\n",
       "  <tbody>\n",
       "    <tr>\n",
       "      <td>2021-08-14T16:34:55</td>\n",
       "      <td>2196</td>\n",
       "      <td>518343</td>\n",
       "    </tr>\n",
       "    <tr>\n",
       "      <td>2021-08-22T09:44:55</td>\n",
       "      <td>5648</td>\n",
       "      <td>575325</td>\n",
       "    </tr>\n",
       "    <tr>\n",
       "      <td>2021-08-01T06:49:45</td>\n",
       "      <td>1954</td>\n",
       "      <td>995393</td>\n",
       "    </tr>\n",
       "    <tr>\n",
       "      <td>2021-08-10T15:02:02</td>\n",
       "      <td>5430</td>\n",
       "      <td>813726</td>\n",
       "    </tr>\n",
       "    <tr>\n",
       "      <td>2021-08-03T21:56:28</td>\n",
       "      <td>9786</td>\n",
       "      <td>54150</td>\n",
       "    </tr>\n",
       "  </tbody>\n",
       "</table>"
      ],
      "text/plain": [
       "<IPython.core.display.HTML object>"
      ]
     },
     "execution_count": 130,
     "metadata": {},
     "output_type": "execute_result"
    }
   ],
   "source": [
    "pddf = get_random_events_df(900_000)\n",
    "\n",
    "HTML(pddf.head().to_html(index=False))"
   ]
  },
  {
   "cell_type": "code",
   "execution_count": 131,
   "id": "104aeb8f-6588-4513-be1a-66890e5f06cf",
   "metadata": {},
   "outputs": [],
   "source": [
    "pddf.to_csv(output_psv_path, sep='|', header=False, index=False)"
   ]
  },
  {
   "cell_type": "code",
   "execution_count": 132,
   "id": "1ce14bda-ae3c-42ef-81d4-6c305a9331b1",
   "metadata": {},
   "outputs": [
    {
     "name": "stdout",
     "output_type": "stream",
     "text": [
      "total 33M\n",
      "drwxrwxr-x  2 lu lu 4.0K Dec 17 21:15 .\n",
      "drwxr-x--- 38 lu lu 4.0K Dec 17 17:22 ..\n",
      "-rw-rw-r--  1 lu lu  805 Dec 17 17:55 cell_users_20.json\n",
      "-rw-rw-r--  1 lu lu  636 Dec 17 21:13 cell_users_20.psv\n",
      "-rw-rw-r--  1 lu lu 2.9M Dec 17 21:14 cell_users_80k.json\n",
      "-rw-rw-r--  1 lu lu 2.5M Dec 17 21:13 cell_users_80k.psv\n",
      "-rw-rw-r--  1 lu lu  28M Dec 17 21:15 cell_users.psv\n"
     ]
    },
    {
     "data": {
      "text/plain": [
       "0"
      ]
     },
     "execution_count": 132,
     "metadata": {},
     "output_type": "execute_result"
    }
   ],
   "source": [
    "sp.call(f'ls -lah {temp_dir_path}', shell=True)"
   ]
  },
  {
   "cell_type": "code",
   "execution_count": 133,
   "id": "244d8d2d-f413-467d-a1e1-7783e0b750d2",
   "metadata": {},
   "outputs": [
    {
     "name": "stdout",
     "output_type": "stream",
     "text": [
      "2021-08-14T16:34:55|2196|518343\n",
      "2021-08-22T09:44:55|5648|575325\n",
      "2021-08-01T06:49:45|1954|995393\n",
      "2021-08-10T15:02:02|5430|813726\n",
      "2021-08-03T21:56:28|9786|54150\n",
      "2021-08-15T03:34:25|6811|19006\n",
      "2021-08-16T07:05:28|1909|948347\n",
      "2021-08-15T23:22:08|5820|80534\n",
      "2021-08-13T14:09:34|3642|1041807\n",
      "2021-08-16T01:31:11|6858|763630\n"
     ]
    }
   ],
   "source": [
    "exit_code = sp.call(f'cat {output_psv_path} | head', shell=True)"
   ]
  },
  {
   "cell_type": "code",
   "execution_count": null,
   "id": "a2834048-b92a-4813-acfd-c64daa369e3f",
   "metadata": {},
   "outputs": [],
   "source": []
  },
  {
   "cell_type": "code",
   "execution_count": 134,
   "id": "869a5967-9b50-42b7-9dee-233b506efa6a",
   "metadata": {},
   "outputs": [],
   "source": [
    "# terrible\n",
    "# pddf.to_json(output_json_path, index=True)"
   ]
  },
  {
   "cell_type": "code",
   "execution_count": 135,
   "id": "b080891d-d048-4027-8a52-28a5cae12401",
   "metadata": {},
   "outputs": [],
   "source": [
    "# pddf.to_json(output_json_path, orient='table', index=False) # too much info\n",
    "pddf.to_json(output_json_path, orient='split', index=False)"
   ]
  },
  {
   "cell_type": "code",
   "execution_count": 136,
   "id": "ecea5655-da86-4f4c-b45e-20459c0cd5f1",
   "metadata": {},
   "outputs": [
    {
     "name": "stdout",
     "output_type": "stream",
     "text": [
      "{\n",
      "    \"columns\": [\n",
      "        \"ts\",\n",
      "        \"account\",\n",
      "        \"bytesUsed\"\n",
      "    ],\n",
      "    \"data\": [\n",
      "        [\n",
      "            \"2021-08-14T16:34:55\",\n",
      "            \"2196\",\n",
      "            518343\n",
      "        ],\n",
      "        [\n",
      "            \"2021-08-22T09:44:55\",\n",
      "            \"5648\",\n",
      "            575325\n",
      "        ],\n",
      "        [\n",
      "            \"2021-08-01T06:49:45\",\n",
      "            \"1954\",\n",
      "            995393\n",
      "        ],\n",
      "        [\n",
      "            \"2021-08-10T15:02:02\",\n",
      "            \"5430\",\n",
      "            813726\n",
      "        ],\n",
      "        [\n",
      "            \"2021-08-03T21:56:28\",\n",
      "            \"9786\",\n"
     ]
    }
   ],
   "source": [
    "exit_code = sp.call(f'cat {output_json_path} | jq --indent 4 | head -n 30', shell=True)"
   ]
  },
  {
   "cell_type": "code",
   "execution_count": null,
   "id": "cc10ea87-2532-43f7-8bf9-1c7617a00376",
   "metadata": {},
   "outputs": [],
   "source": []
  },
  {
   "cell_type": "code",
   "execution_count": 137,
   "id": "3b3260e7-e1ba-4e59-a006-2df30fe8199d",
   "metadata": {},
   "outputs": [
    {
     "name": "stdout",
     "output_type": "stream",
     "text": [
      "total 66M\n",
      "drwxrwxr-x  2 lu lu 4.0K Dec 17 21:15 .\n",
      "drwxr-x--- 38 lu lu 4.0K Dec 17 17:22 ..\n",
      "-rw-rw-r--  1 lu lu  805 Dec 17 17:55 cell_users_20.json\n",
      "-rw-rw-r--  1 lu lu  636 Dec 17 21:13 cell_users_20.psv\n",
      "-rw-rw-r--  1 lu lu 2.9M Dec 17 21:14 cell_users_80k.json\n",
      "-rw-rw-r--  1 lu lu 2.5M Dec 17 21:13 cell_users_80k.psv\n",
      "-rw-rw-r--  1 lu lu  33M Dec 17 21:15 cell_users.json\n",
      "-rw-rw-r--  1 lu lu  28M Dec 17 21:15 cell_users.psv\n"
     ]
    }
   ],
   "source": [
    "exit_code = sp.call(f'ls -lah {temp_dir_path}', shell=True)"
   ]
  },
  {
   "cell_type": "code",
   "execution_count": null,
   "id": "b40b309d-ab88-42fd-97e2-72f658793ec8",
   "metadata": {},
   "outputs": [],
   "source": []
  },
  {
   "cell_type": "code",
   "execution_count": null,
   "id": "99d70058-f5e1-46f8-96d2-8bc11727cb6f",
   "metadata": {},
   "outputs": [],
   "source": []
  },
  {
   "cell_type": "code",
   "execution_count": null,
   "id": "bc9372e4-93e9-4997-94f5-5359cf37f96b",
   "metadata": {},
   "outputs": [],
   "source": []
  },
  {
   "cell_type": "code",
   "execution_count": null,
   "id": "e74ffcb8-25d8-455b-8926-19144315ed13",
   "metadata": {},
   "outputs": [],
   "source": []
  },
  {
   "cell_type": "code",
   "execution_count": null,
   "id": "321c0af4-6698-45aa-99bb-e5fd7367af94",
   "metadata": {},
   "outputs": [],
   "source": []
  },
  {
   "cell_type": "code",
   "execution_count": null,
   "id": "798f9a2b-6fe4-40d5-aede-b31750291452",
   "metadata": {},
   "outputs": [],
   "source": []
  },
  {
   "cell_type": "code",
   "execution_count": null,
   "id": "c187ff3d-2f0c-4f2c-955f-a74505560031",
   "metadata": {},
   "outputs": [],
   "source": []
  },
  {
   "cell_type": "code",
   "execution_count": null,
   "id": "c1e7991b-0bef-421d-895e-eaa4c4ff9a35",
   "metadata": {},
   "outputs": [],
   "source": []
  }
 ],
 "metadata": {
  "kernelspec": {
   "display_name": "Python 3 (ipykernel)",
   "language": "python",
   "name": "python3"
  },
  "language_info": {
   "codemirror_mode": {
    "name": "ipython",
    "version": 3
   },
   "file_extension": ".py",
   "mimetype": "text/x-python",
   "name": "python",
   "nbconvert_exporter": "python",
   "pygments_lexer": "ipython3",
   "version": "3.10.6"
  }
 },
 "nbformat": 4,
 "nbformat_minor": 5
}
