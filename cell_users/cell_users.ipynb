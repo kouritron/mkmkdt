{
 "cells": [
  {
   "cell_type": "code",
   "execution_count": 1,
   "id": "8bd48af6-9eda-4f44-8e46-dbc2b59f8a40",
   "metadata": {},
   "outputs": [],
   "source": [
    "import os, json, random, time\n",
    "\n",
    "from datetime import datetime\n",
    "from datetime import timedelta\n",
    "import subprocess as sp\n",
    "from pathlib import Path\n",
    "\n",
    "from decimal import Decimal\n",
    "\n",
    "import requests\n",
    "import pandas as pd\n",
    "import numpy as np\n",
    "from IPython.display import HTML, display"
   ]
  },
  {
   "cell_type": "code",
   "execution_count": null,
   "id": "3c23d5d0-cb6f-4e94-9c35-4d3c98a46b18",
   "metadata": {},
   "outputs": [],
   "source": []
  },
  {
   "cell_type": "markdown",
   "id": "8545cf39-f8e1-4bcb-9d6c-475c23e253ea",
   "metadata": {},
   "source": [
    "# cell usage data stream\n",
    "\n",
    "<pre>\n",
    "\n",
    "# -------------------------------------------------------------------------------------------------- src stream\n",
    "\n",
    "the messages (kafka speech) or events (flink speech) coming into the source look like these documents:\n",
    "{\"ts\": \"2021-11-24T00:00:00.762\", \"account\": \"324\", \"bytesUsed\": 104857 }\n",
    "{\"ts\": \"2021-11-24T00:03:00.410\", \"account\": \"781\", \"bytesUsed\": 819200 }\n",
    "\n",
    "\n",
    "# --------------------------------------------------------------------------------------------------\n",
    "*** there is another CreateTime field outside the document, not sure what to do w/ that at the momment.\n",
    "\n",
    "\n",
    "\n",
    "\n",
    "# -------------------------------------------------------------------------------------------------- dateutil\n",
    "*** datetime.fromisoformat() can not parse all ISO 8601 strings, some basics are supported.\n",
    "corner case are not. The best soln is to use dateutil if you absolutely must handle it.\n",
    "https://github.com/dateutil/dateutil\n",
    "\n",
    "*** to avoid needing the xtra package lets get rid of the the +0000\n",
    "\"2021-11-24T00:03:00.410+0000\"  --->>> becomes:\n",
    "\"2021-11-24T00:03:00.410\"\n",
    "\n",
    "no dateutil needed.\n",
    "\n",
    "# --------------------------------------------------------------------------------------------------\n",
    "\n",
    "\n",
    "\n",
    "\n",
    "# --------------------------------------------------------------------------------------------------\n",
    "\n",
    "\n",
    "\n",
    "</pre>\n"
   ]
  },
  {
   "cell_type": "code",
   "execution_count": null,
   "id": "677416b4-163e-44a9-9a10-6fb19a4c62f2",
   "metadata": {},
   "outputs": [],
   "source": []
  },
  {
   "cell_type": "code",
   "execution_count": 23,
   "id": "9c9a1dca-59c6-44f0-b9ea-c48451c1879d",
   "metadata": {},
   "outputs": [
    {
     "data": {
      "text/plain": [
       "1671314261.8531277"
      ]
     },
     "execution_count": 23,
     "metadata": {},
     "output_type": "execute_result"
    }
   ],
   "source": [
    "time.time()"
   ]
  },
  {
   "cell_type": "code",
   "execution_count": 24,
   "id": "32046cf7-8ea2-4841-9e1c-f4b5eb4ae184",
   "metadata": {},
   "outputs": [
    {
     "data": {
      "text/plain": [
       "819200"
      ]
     },
     "execution_count": 24,
     "metadata": {},
     "output_type": "execute_result"
    }
   ],
   "source": [
    "800 * 1024"
   ]
  },
  {
   "cell_type": "code",
   "execution_count": 25,
   "id": "cec3ccff-9840-4d43-96a7-bfeb5bf77c92",
   "metadata": {},
   "outputs": [
    {
     "data": {
      "text/plain": [
       "datetime.datetime(2022, 12, 16, 11, 12, 53)"
      ]
     },
     "execution_count": 25,
     "metadata": {},
     "output_type": "execute_result"
    }
   ],
   "source": [
    "datetime.fromtimestamp(1671207173)"
   ]
  },
  {
   "cell_type": "code",
   "execution_count": 26,
   "id": "8a592ebc-069a-49b0-8965-196ee667d528",
   "metadata": {},
   "outputs": [
    {
     "data": {
      "text/plain": [
       "'2021-11-24T00:00:00'"
      ]
     },
     "execution_count": 26,
     "metadata": {},
     "output_type": "execute_result"
    }
   ],
   "source": [
    "datetime(2021, 11, 24, 0, 0, 0).isoformat()\n"
   ]
  },
  {
   "cell_type": "code",
   "execution_count": 27,
   "id": "006f89df-1d14-4029-b8fd-d8e01574f26e",
   "metadata": {},
   "outputs": [
    {
     "data": {
      "text/plain": [
       "datetime.datetime(2021, 11, 24, 23, 34, 41, 762000)"
      ]
     },
     "execution_count": 27,
     "metadata": {},
     "output_type": "execute_result"
    }
   ],
   "source": [
    "datetime.fromisoformat(\"2021-11-24T23:34:41.762\")"
   ]
  },
  {
   "cell_type": "code",
   "execution_count": null,
   "id": "0be432d0-a4e6-4787-86c9-6bb21be7720c",
   "metadata": {},
   "outputs": [],
   "source": []
  },
  {
   "cell_type": "code",
   "execution_count": null,
   "id": "ca8a4bd2-bb11-4c4e-ad41-5142b3e53ff1",
   "metadata": {},
   "outputs": [],
   "source": []
  },
  {
   "cell_type": "code",
   "execution_count": null,
   "id": "94872cec-e8b2-4f09-8818-147678e72e3f",
   "metadata": {},
   "outputs": [],
   "source": []
  },
  {
   "cell_type": "code",
   "execution_count": null,
   "id": "9e106548-384a-4f2e-a1bb-6a19eb312dd3",
   "metadata": {},
   "outputs": [],
   "source": []
  },
  {
   "cell_type": "code",
   "execution_count": null,
   "id": "024cc583-f583-4ef7-ae6b-d35a6d9d90ac",
   "metadata": {},
   "outputs": [],
   "source": []
  },
  {
   "cell_type": "code",
   "execution_count": null,
   "id": "242dbc1a-6610-4000-858b-3bd56cb073d3",
   "metadata": {},
   "outputs": [],
   "source": []
  },
  {
   "cell_type": "code",
   "execution_count": null,
   "id": "fd0e9b0b-917d-4a8b-9bbb-fc475debae0e",
   "metadata": {},
   "outputs": [],
   "source": []
  },
  {
   "cell_type": "code",
   "execution_count": null,
   "id": "bdff5c24-5327-43e0-b83e-6814553660a6",
   "metadata": {},
   "outputs": [],
   "source": []
  }
 ],
 "metadata": {
  "kernelspec": {
   "display_name": "Python 3 (ipykernel)",
   "language": "python",
   "name": "python3"
  },
  "language_info": {
   "codemirror_mode": {
    "name": "ipython",
    "version": 3
   },
   "file_extension": ".py",
   "mimetype": "text/x-python",
   "name": "python",
   "nbconvert_exporter": "python",
   "pygments_lexer": "ipython3",
   "version": "3.10.6"
  }
 },
 "nbformat": 4,
 "nbformat_minor": 5
}
